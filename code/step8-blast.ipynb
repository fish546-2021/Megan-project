{
 "cells": [
  {
   "cell_type": "markdown",
   "metadata": {},
   "source": [
    "## Running Blast in Jupyter"
   ]
  },
  {
   "cell_type": "markdown",
   "metadata": {},
   "source": [
    "# Get Protein fasta to create database"
   ]
  },
  {
   "cell_type": "code",
   "execution_count": 9,
   "metadata": {},
   "outputs": [
    {
     "name": "stdout",
     "output_type": "stream",
     "text": [
      "/Volumes/Samsung USB/Megan-project/code\n"
     ]
    }
   ],
   "source": [
    "! pwd"
   ]
  },
  {
   "cell_type": "code",
   "execution_count": 10,
   "metadata": {},
   "outputs": [
    {
     "name": "stdout",
     "output_type": "stream",
     "text": [
      "  % Total    % Received % Xferd  Average Speed   Time    Time     Time  Current\n",
      "                                 Dload  Upload   Total   Spent    Left  Speed\n",
      "100 85.6M  100 85.6M    0     0  1409k      0  0:01:02  0:01:02 --:--:-- 1687k 0    0     0      0      0 --:--:-- --:--:-- --:--:--     0 0:00:19  0:00:55 1737k   0  1480k      0  0:00:59  0:00:40  0:00:19 1802k    0     0  1409k      0  0:01:02  0:00:53  0:00:09 1034k0 77.6M    0     0  1385k      0  0:01:03  0:00:57  0:00:06  971k02  0:01:00  0:00:02 1543k\n"
     ]
    }
   ],
   "source": [
    "#get database and save to blastdb\n",
    "!curl \\\n",
    "ftp://ftp.uniprot.org/pub/databases/uniprot/current_release/knowledgebase/complete/uniprot_sprot.fasta.gz \\\n",
    "> ../blast/blastdb/uniprot_sprot.fasta.gz"
   ]
  },
  {
   "cell_type": "code",
   "execution_count": 14,
   "metadata": {},
   "outputs": [],
   "source": [
    "#unzip unirot fasta file\n",
    "!gunzip -k ../blast/blastdb/uniprot_sprot.fasta.gz"
   ]
  },
  {
   "cell_type": "code",
   "execution_count": 15,
   "metadata": {},
   "outputs": [
    {
     "name": "stdout",
     "output_type": "stream",
     "text": [
      "\u001b[31muniprot_sprot.fasta\u001b[m\u001b[m    \u001b[31muniprot_sprot.fasta.gz\u001b[m\u001b[m\n"
     ]
    }
   ],
   "source": [
    "#list blastdb contents to confirm file got placed there\n",
    "!ls ../blast/blastdb/"
   ]
  },
  {
   "cell_type": "markdown",
   "metadata": {},
   "source": [
    "# Make BlastDB (need to install Software first)"
   ]
  },
  {
   "cell_type": "code",
   "execution_count": 16,
   "metadata": {},
   "outputs": [
    {
     "name": "stdout",
     "output_type": "stream",
     "text": [
      "  % Total    % Received % Xferd  Average Speed   Time    Time     Time  Current\n",
      "                                 Dload  Upload   Total   Spent    Left  Speed\n",
      "100  139M  100  139M    0     0  3079k      0  0:00:46  0:00:46 --:--:-- 3722k\n"
     ]
    }
   ],
   "source": [
    "#install blast database software and save to BLAST applications folder\n",
    "!curl https://ftp.ncbi.nlm.nih.gov/blast/executables/blast+/LATEST/ncbi-blast-2.11.0+-x64-macosx.tar.gz \\\n",
    "> ../blast/ncbi-blast-2.11.0+-x64-macosx.tar.gz"
   ]
  },
  {
   "cell_type": "code",
   "execution_count": 17,
   "metadata": {},
   "outputs": [],
   "source": [
    "#extract contents (would need to unzip if it wasn't already unzipped in folder)\n",
    "!tar -xf ../blast/ncbi-blast-2.11.0+-x64-macosx.tar.gz"
   ]
  },
  {
   "cell_type": "code",
   "execution_count": 18,
   "metadata": {},
   "outputs": [
    {
     "name": "stdout",
     "output_type": "stream",
     "text": [
      "\u001b[31mblast_formatter\u001b[m\u001b[m            \u001b[31mlegacy_blast.pl\u001b[m\u001b[m\n",
      "\u001b[31mblastdb_aliastool\u001b[m\u001b[m          \u001b[31mmakeblastdb\u001b[m\u001b[m\n",
      "\u001b[31mblastdbcheck\u001b[m\u001b[m               \u001b[31mmakembindex\u001b[m\u001b[m\n",
      "\u001b[31mblastdbcmd\u001b[m\u001b[m                 \u001b[31mmakeprofiledb\u001b[m\u001b[m\n",
      "\u001b[31mblastn\u001b[m\u001b[m                     \u001b[31mpsiblast\u001b[m\u001b[m\n",
      "\u001b[31mblastp\u001b[m\u001b[m                     \u001b[31mrpsblast\u001b[m\u001b[m\n",
      "\u001b[31mblastx\u001b[m\u001b[m                     \u001b[31mrpstblastn\u001b[m\u001b[m\n",
      "\u001b[31mcleanup-blastdb-volumes.py\u001b[m\u001b[m \u001b[31msegmasker\u001b[m\u001b[m\n",
      "\u001b[31mconvert2blastmask\u001b[m\u001b[m          \u001b[31mtblastn\u001b[m\u001b[m\n",
      "\u001b[31mdeltablast\u001b[m\u001b[m                 \u001b[31mtblastx\u001b[m\u001b[m\n",
      "\u001b[31mdustmasker\u001b[m\u001b[m                 \u001b[31mupdate_blastdb.pl\u001b[m\u001b[m\n",
      "\u001b[31mget_species_taxids.sh\u001b[m\u001b[m      \u001b[31mwindowmasker\u001b[m\u001b[m\n"
     ]
    }
   ],
   "source": [
    "#list contents\n",
    "!ls ../blast/ncbi-blast-2.11.0+/bin"
   ]
  },
  {
   "cell_type": "code",
   "execution_count": 19,
   "metadata": {},
   "outputs": [],
   "source": [
    "bldir = \"../blast/ncbi-blast-2.11.0+/bin/\""
   ]
  },
  {
   "cell_type": "code",
   "execution_count": 20,
   "metadata": {},
   "outputs": [
    {
     "name": "stdout",
     "output_type": "stream",
     "text": [
      "\n",
      "\n",
      "Building a new DB, current time: 03/09/2021 17:06:45\n",
      "New DB name:   /Volumes/Samsung USB/Megan-project/blast/blastdb/uniprot_sprot_r2021\n",
      "New DB title:  ../blast/blastdb/uniprot_sprot.fasta\n",
      "Sequence type: Protein\n",
      "Keep MBits: T\n",
      "Maximum file size: 1000000000B\n",
      "Adding sequences from FASTA; added 564277 sequences in 22.6903 seconds.\n",
      "\n",
      "\n"
     ]
    }
   ],
   "source": [
    "!{bldir}makeblastdb \\\n",
    "-in ../blast/blastdb/uniprot_sprot.fasta \\\n",
    "-dbtype prot \\\n",
    "-out ../blast/blastdb/uniprot_sprot_r2021"
   ]
  },
  {
   "cell_type": "markdown",
   "metadata": {},
   "source": [
    "# Run Blastx"
   ]
  },
  {
   "cell_type": "markdown",
   "metadata": {},
   "source": [
    "## Go make some food after you start running the second chunk because it will take awhile"
   ]
  },
  {
   "cell_type": "code",
   "execution_count": 2,
   "metadata": {},
   "outputs": [],
   "source": [
    "bldir = \"../blast/ncbi-blast-2.11.0+/bin/\""
   ]
  },
  {
   "cell_type": "code",
   "execution_count": 22,
   "metadata": {},
   "outputs": [],
   "source": [
    "#build directory\n",
    "!{bldir}blastx \\\n",
    "-query ../data/Oncorhynchus_kisutch.Okis_V2.ncrna.fa\\\n",
    "-db ../blast/blastdb/uniprot_sprot_r2021 \\\n",
    "-out ../analyses/Oncorhynchus_kisutch_blastx.tab \\\n",
    "-evalue 1E-20 \\\n",
    "-num_threads 4 \\\n",
    "-max_target_seqs 5 \\\n",
    "-outfmt 6"
   ]
  },
  {
   "cell_type": "code",
   "execution_count": 23,
   "metadata": {},
   "outputs": [
    {
     "name": "stdout",
     "output_type": "stream",
     "text": [
      "ENSOKIT00005001584.1\tsp|O75962|TRIO_HUMAN\t83.333\t48\t8\t0\t78\t221\t1350\t1397\t9.19e-33\t93.2\n",
      "ENSOKIT00005001584.1\tsp|O75962|TRIO_HUMAN\t76.923\t39\t9\t0\t226\t342\t1399\t1437\t9.19e-33\t66.6\n",
      "ENSOKIT00005001584.1\tsp|F1M0Z1|TRIO_RAT\t83.333\t48\t8\t0\t78\t221\t1350\t1397\t1.07e-32\t93.2\n",
      "ENSOKIT00005001584.1\tsp|F1M0Z1|TRIO_RAT\t76.923\t39\t9\t0\t226\t342\t1399\t1437\t1.07e-32\t66.6\n",
      "ENSOKIT00005001584.1\tsp|Q0KL02|TRIO_MOUSE\t83.333\t48\t8\t0\t78\t221\t1350\t1397\t1.08e-32\t93.2\n",
      "ENSOKIT00005001584.1\tsp|Q0KL02|TRIO_MOUSE\t76.923\t39\t9\t0\t226\t342\t1399\t1437\t1.08e-32\t66.6\n",
      "ENSOKIT00005001584.1\tsp|O60229|KALRN_HUMAN\t83.333\t48\t8\t0\t78\t221\t1339\t1386\t2.71e-32\t91.3\n",
      "ENSOKIT00005001584.1\tsp|O60229|KALRN_HUMAN\t79.487\t39\t8\t0\t226\t342\t1388\t1426\t2.71e-32\t67.0\n",
      "ENSOKIT00005001584.1\tsp|P97924|KALRN_RAT\t83.333\t48\t8\t0\t78\t221\t1312\t1359\t3.77e-32\t91.3\n",
      "ENSOKIT00005001584.1\tsp|P97924|KALRN_RAT\t76.923\t39\t9\t0\t226\t342\t1361\t1399\t3.77e-32\t66.6\n"
     ]
    }
   ],
   "source": [
    "!head ../analyses/Oncorhynchus_kisutch_blastx.tab"
   ]
  },
  {
   "cell_type": "code",
   "execution_count": 3,
   "metadata": {},
   "outputs": [],
   "source": [
    "#only one of our 12 DEGs showed up on our reference genome. Going to run a separate blast with the remaining 11 to figure out what they may be in different organisms.\n",
    "!{bldir}blastx \\\n",
    "-query ../data/Oncorhynchus_kisutch.Okis_V2.ncrna_11-DEGs.fa\\\n",
    "-db ../blast/blastdb/uniprot_sprot_r2021 \\\n",
    "-out ../analyses/Oncorhynchus_kisutch_blastx_11-DEGs.tab \\\n",
    "-evalue 1E-4 \\\n",
    "-num_threads 4 \\\n",
    "-max_target_seqs 5 \\\n",
    "-outfmt 6"
   ]
  },
  {
   "cell_type": "code",
   "execution_count": 4,
   "metadata": {},
   "outputs": [
    {
     "name": "stdout",
     "output_type": "stream",
     "text": [
      "ENSOKIT00005065079.1\tsp|Q8TGM7|ART2_YEAST\t59.016\t61\t25\t0\t3268\t3086\t1\t61\t3.39e-13\t68.9\n",
      "ENSOKIT00005065079.1\tsp|Q3E811|RRT15_YEAST\t68.085\t47\t15\t0\t3268\t3128\t1\t47\t8.64e-12\t65.1\n",
      "ENSOKIT00005065079.1\tsp|Q6CQE5|TAR1_KLULA\t47.826\t92\t39\t2\t445\t185\t2\t89\t6.24e-07\t52.8\n",
      "ENSOKIT00005065079.1\tsp|Q8TGM6|TAR1_YEAST\t53.947\t76\t34\t1\t445\t221\t17\t92\t6.64e-07\t53.1\n",
      "ENSOKIT00005065079.1\tsp|P47226|TES_MOUSE\t72.973\t37\t9\t1\t849\t959\t1\t36\t9.64e-06\t53.5\n",
      "ENSOKIT00005091707.1\tsp|Q8IID4|DYHC2_PLAF7\t38.961\t77\t47\t0\t2341\t2571\t4116\t4192\t3.82e-05\t52.8\n",
      "ENSOKIT00005091707.1\tsp|Q8IID4|DYHC2_PLAF7\t37.662\t77\t48\t0\t2341\t2571\t4106\t4182\t9.15e-05\t51.2\n"
     ]
    }
   ],
   "source": [
    "! cat ../analyses/Oncorhynchus_kisutch_blastx_11-DEGs.tab"
   ]
  },
  {
   "cell_type": "code",
   "execution_count": null,
   "metadata": {},
   "outputs": [],
   "source": []
  }
 ],
 "metadata": {
  "kernelspec": {
   "display_name": "Python 3",
   "language": "python",
   "name": "python3"
  },
  "language_info": {
   "codemirror_mode": {
    "name": "ipython",
    "version": 3
   },
   "file_extension": ".py",
   "mimetype": "text/x-python",
   "name": "python",
   "nbconvert_exporter": "python",
   "pygments_lexer": "ipython3",
   "version": "3.8.5"
  }
 },
 "nbformat": 4,
 "nbformat_minor": 4
}
