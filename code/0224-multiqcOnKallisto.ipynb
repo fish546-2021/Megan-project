{
 "cells": [
  {
   "cell_type": "markdown",
   "metadata": {},
   "source": [
    "# Mutli QC on Kallisto files"
   ]
  },
  {
   "cell_type": "code",
   "execution_count": 4,
   "metadata": {},
   "outputs": [
    {
     "name": "stdout",
     "output_type": "stream",
     "text": [
      "/Volumes/Samsung USB/Megan-project/code\n"
     ]
    }
   ],
   "source": [
    "# where are we\n",
    "! pwd"
   ]
  },
  {
   "cell_type": "code",
   "execution_count": 5,
   "metadata": {},
   "outputs": [
    {
     "name": "stdout",
     "output_type": "stream",
     "text": [
      "\u001b[31m0128-Giles-md5sums.txt\u001b[m\u001b[m \u001b[30m\u001b[43m0218-fastqc\u001b[m\u001b[m            \u001b[31mREADME.md\u001b[m\u001b[m\n",
      "\u001b[31m0209-md5sums.txt\u001b[m\u001b[m       \u001b[31m0218-md5sums.txt\u001b[m\u001b[m       \u001b[30m\u001b[43moutput\u001b[m\u001b[m\n",
      "\u001b[30m\u001b[43m0210-fastqc\u001b[m\u001b[m            \u001b[31m0218-md5sumsGannet.txt\u001b[m\u001b[m\n",
      "\u001b[31m0210-kallisto.idx\u001b[m\u001b[m      \u001b[30m\u001b[43m0224-multiqc\u001b[m\u001b[m\n"
     ]
    }
   ],
   "source": [
    "# look back at the fastqc reports we want to use, the kallisto idx file is what we want\n",
    "! ls ../analyses/"
   ]
  },
  {
   "cell_type": "code",
   "execution_count": 6,
   "metadata": {},
   "outputs": [],
   "source": [
    "# make new directory for the multiqc\n",
    "! mkdir ../analyses/0224-multiqcKallisto/"
   ]
  },
  {
   "cell_type": "code",
   "execution_count": 7,
   "metadata": {},
   "outputs": [],
   "source": [
    "# copy the fastqc reports to this multiqc directory we've made\n",
    "! cp ../analyses/0210-kallisto.idx ../analyses/0224-multiqcKallisto/"
   ]
  },
  {
   "cell_type": "code",
   "execution_count": 10,
   "metadata": {},
   "outputs": [
    {
     "name": "stdout",
     "output_type": "stream",
     "text": [
      "\u001b[31m0210-kallisto.idx\u001b[m\u001b[m\n"
     ]
    }
   ],
   "source": [
    "# confirm they've copied\n",
    "! ls ../analyses/0224-multiqcKallisto/"
   ]
  },
  {
   "cell_type": "code",
   "execution_count": 12,
   "metadata": {},
   "outputs": [
    {
     "name": "stdout",
     "output_type": "stream",
     "text": [
      "/Volumes/Samsung USB/Megan-project/analyses/0224-multiqcKallisto\n"
     ]
    }
   ],
   "source": [
    "cd ../analyses/0224-multiqcKallisto/"
   ]
  },
  {
   "cell_type": "code",
   "execution_count": 13,
   "metadata": {},
   "outputs": [
    {
     "name": "stdout",
     "output_type": "stream",
     "text": [
      "\u001b[31m0210-kallisto.idx\u001b[m\u001b[m\n"
     ]
    }
   ],
   "source": [
    "# confirm contents...again\n",
    "! ls"
   ]
  },
  {
   "cell_type": "code",
   "execution_count": 14,
   "metadata": {},
   "outputs": [
    {
     "name": "stdout",
     "output_type": "stream",
     "text": [
      "\u001b[1;30m[INFO   ]\u001b[0m         multiqc : This is MultiQC v1.9\n",
      "\u001b[1;30m[INFO   ]\u001b[0m         multiqc : Template    : default\n",
      "\u001b[1;30m[INFO   ]\u001b[0m         multiqc : Searching   : /Volumes/Samsung USB/Megan-project/analyses/0224-multiqcKallisto\n",
      "\u001b[1;30m[WARNING]\u001b[0m         multiqc : \u001b[33mNo analysis results found. Cleaning up..\u001b[0m\n",
      "\u001b[1;30m[INFO   ]\u001b[0m         multiqc : MultiQC complete\n"
     ]
    }
   ],
   "source": [
    "# run multiqc in this directory (indicated by the .)\n",
    "! multiqc ."
   ]
  },
  {
   "cell_type": "code",
   "execution_count": 15,
   "metadata": {},
   "outputs": [
    {
     "name": "stdout",
     "output_type": "stream",
     "text": [
      "\u001b[31m0210-kallisto.idx\u001b[m\u001b[m\n"
     ]
    }
   ],
   "source": [
    "# look at directory contents and you'll see we have two new files that are the result of the mutliqc\n",
    "! ls"
   ]
  },
  {
   "cell_type": "markdown",
   "metadata": {},
   "source": [
    "ah welp, worth a shot. Reason this didn't work was because, according to the Kallisto site: \"MultiQC parses the standard out from Kallisto, not any of its output files (abundance.h5, abundance.tsv, and run_info.json). As such, you must capture the Kallisto stdout to a file when running to use the MultiQC module.\""
   ]
  },
  {
   "cell_type": "code",
   "execution_count": null,
   "metadata": {},
   "outputs": [],
   "source": []
  }
 ],
 "metadata": {
  "kernelspec": {
   "display_name": "Python 3",
   "language": "python",
   "name": "python3"
  },
  "language_info": {
   "codemirror_mode": {
    "name": "ipython",
    "version": 3
   },
   "file_extension": ".py",
   "mimetype": "text/x-python",
   "name": "python",
   "nbconvert_exporter": "python",
   "pygments_lexer": "ipython3",
   "version": "3.8.5"
  }
 },
 "nbformat": 4,
 "nbformat_minor": 4
}
