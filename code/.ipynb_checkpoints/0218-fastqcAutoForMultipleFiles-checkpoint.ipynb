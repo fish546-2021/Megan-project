{
 "cells": [
  {
   "cell_type": "markdown",
   "metadata": {},
   "source": [
    "# Running Fastqc for multiple files in a single folder"
   ]
  },
  {
   "cell_type": "code",
   "execution_count": 1,
   "metadata": {},
   "outputs": [],
   "source": [
    "# make program executable from command line\n",
    "! chmod u+x /Applications/FastQC/fastQC"
   ]
  },
  {
   "cell_type": "code",
   "execution_count": 4,
   "metadata": {},
   "outputs": [
    {
     "name": "stdout",
     "output_type": "stream",
     "text": [
      "mkdir: ../analyses/0218-fastqc/: File exists\n"
     ]
    }
   ],
   "source": [
    "# make directory for results to go to\n",
    "! mkdir ../analyses/0218-fastqc/"
   ]
  },
  {
   "cell_type": "code",
   "execution_count": null,
   "metadata": {},
   "outputs": [
    {
     "name": "stdout",
     "output_type": "stream",
     "text": [
      "Started analysis of 17104-02RT-01-13_S21_L003_R1_001.fastq.gz\n",
      "Approx 5% complete for 17104-02RT-01-13_S21_L003_R1_001.fastq.gz\n",
      "Approx 10% complete for 17104-02RT-01-13_S21_L003_R1_001.fastq.gz\n",
      "Approx 15% complete for 17104-02RT-01-13_S21_L003_R1_001.fastq.gz\n",
      "Approx 20% complete for 17104-02RT-01-13_S21_L003_R1_001.fastq.gz\n",
      "Approx 25% complete for 17104-02RT-01-13_S21_L003_R1_001.fastq.gz\n",
      "Approx 30% complete for 17104-02RT-01-13_S21_L003_R1_001.fastq.gz\n"
     ]
    }
   ],
   "source": [
    "# Run fastqc and send output to directory just created\n",
    "!/Applications/FastQC/fastQC \\\n",
    "../data/raw/*fastq.gz \\\n",
    "-o ../analyses/0218-fastqc/"
   ]
  },
  {
   "cell_type": "code",
   "execution_count": null,
   "metadata": {},
   "outputs": [],
   "source": []
  }
 ],
 "metadata": {
  "kernelspec": {
   "display_name": "Python 3",
   "language": "python",
   "name": "python3"
  },
  "language_info": {
   "codemirror_mode": {
    "name": "ipython",
    "version": 3
   },
   "file_extension": ".py",
   "mimetype": "text/x-python",
   "name": "python",
   "nbconvert_exporter": "python",
   "pygments_lexer": "ipython3",
   "version": "3.8.5"
  }
 },
 "nbformat": 4,
 "nbformat_minor": 4
}
