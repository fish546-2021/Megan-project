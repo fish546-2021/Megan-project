{
 "cells": [
  {
   "cell_type": "markdown",
   "metadata": {},
   "source": [
    "# Quantifying expression with Kallisto"
   ]
  },
  {
   "cell_type": "code",
   "execution_count": 9,
   "metadata": {},
   "outputs": [
    {
     "name": "stdout",
     "output_type": "stream",
     "text": [
      "kallisto 0.46.2\n",
      "\n",
      "Usage: kallisto <CMD> [arguments] ..\n",
      "\n",
      "Where <CMD> can be one of:\n",
      "\n",
      "    index         Builds a kallisto index \n",
      "    quant         Runs the quantification algorithm \n",
      "    bus           Generate BUS files for single-cell data \n",
      "    pseudo        Runs the pseudoalignment step \n",
      "    merge         Merges several batch runs \n",
      "    h5dump        Converts HDF5-formatted results to plaintext\n",
      "    inspect       Inspects and gives information about an index\n",
      "    version       Prints version information\n",
      "    cite          Prints citation information\n",
      "\n",
      "Running kallisto <CMD> without arguments prints usage information for <CMD>\n",
      "\n"
     ]
    }
   ],
   "source": [
    "! kallisto"
   ]
  },
  {
   "cell_type": "code",
   "execution_count": 16,
   "metadata": {},
   "outputs": [
    {
     "name": "stdout",
     "output_type": "stream",
     "text": [
      "/Users/meganewing/Desktop/fish546/Megan-project/analyses\n"
     ]
    }
   ],
   "source": [
    "cd /Users/meganewing/Desktop/fish546/Megan-project/analyses"
   ]
  },
  {
   "cell_type": "code",
   "execution_count": 18,
   "metadata": {},
   "outputs": [
    {
     "name": "stdout",
     "output_type": "stream",
     "text": [
      "\n",
      "[build] loading fasta file ../data/Oncorhynchus_kisutch.Okis_V2.ncrna.fa.gz\n",
      "[build] k-mer length: 31\n",
      "[build] warning: clipped off poly-A tail (longer than 10)\n",
      "        from 1 target sequences\n",
      "[build] warning: replaced 428 non-ACGUT characters in the input sequence\n",
      "        with pseudorandom nucleotides\n",
      "[build] counting k-mers ... done.\n",
      "[build] building target de Bruijn graph ...  done \n",
      "[build] creating equivalence classes ...  done\n",
      "[build] target de Bruijn graph has 68217 contigs and contains 3374345 k-mers \n",
      "\n"
     ]
    }
   ],
   "source": [
    "# Build index. File Oncorhynchus_kisutch.Okis_V2.ncrna.fa.gz is ensembl reference transcriptome\n",
    "! kallisto index -i 0210-kallisto.idx ../data/Oncorhynchus_kisutch.Okis_V2.ncrna.fa.gz"
   ]
  },
  {
   "cell_type": "code",
   "execution_count": 17,
   "metadata": {},
   "outputs": [
    {
     "name": "stdout",
     "output_type": "stream",
     "text": [
      "\n",
      "[quant] fragment length distribution will be estimated from the data\n",
      "Warning: kallisto was not compiled with HDF5 support so no bootstrapping\n",
      "will be performed. Run quant with --plaintext option or recompile with\n",
      "HDF5 support to obtain bootstrap estimates.\n",
      "[index] k-mer length: 31\n",
      "[index] number of targets: 7,575\n",
      "[index] number of k-mers: 3,374,345\n",
      "[index] number of equivalence classes: 17,826\n",
      "[quant] running in paired-end mode\n",
      "[quant] will process pair 1: /Volumes/Samsung USB/salmon/Files_Giles_Uploaded_For_Chris/17104-02RT-01-13_S21_L003_R1_001.fastq.gz\n",
      "                             /Volumes/Samsung USB/salmon/Files_Giles_Uploaded_For_Chris/17104-02RT-01-13_S21_L003_R2_001.fastq.gz\n",
      "[quant] finding pseudoalignments for the reads ... done\n",
      "[quant] processed 29,873,562 reads, 1,441,286 reads pseudoaligned\n",
      "[quant] estimated average fragment length: 309.387\n",
      "[   em] quantifying the abundances ... done\n",
      "[   em] the Expectation-Maximization algorithm ran for 1,137 rounds\n",
      "\n"
     ]
    }
   ],
   "source": [
    "# quantify expression using kallisto\n",
    "! kallisto quant -i 0210-kallisto.idx -o output -b 100 \\\n",
    "/Volumes/Samsung\\ USB/salmon/Files_Giles_Uploaded_For_Chris/17104-02RT-01-13_S21_L003_R1_001.fastq.gz \\\n",
    "/Volumes/Samsung\\ USB/salmon/Files_Giles_Uploaded_For_Chris/17104-02RT-01-13_S21_L003_R2_001.fastq.gz"
   ]
  },
  {
   "cell_type": "code",
   "execution_count": 23,
   "metadata": {},
   "outputs": [
    {
     "name": "stdout",
     "output_type": "stream",
     "text": [
      "target_id\tlength\teff_length\test_counts\ttpm\n",
      "ENSOKIT00005008248.1\t108\t40.958\t0\t0\n",
      "ENSOKIT00005067423.1\t105\t41.7031\t0\t0\n",
      "ENSOKIT00005000004.1\t164\t39.1403\t0\t0\n",
      "ENSOKIT00005000005.1\t164\t39.1403\t0\t0\n",
      "ENSOKIT00005000035.1\t54\t23.211\t0\t0\n",
      "ENSOKIT00005000058.1\t53\t22.7324\t0\t0\n",
      "ENSOKIT00005001108.1\t142\t30.227\t0\t0\n",
      "ENSOKIT00005001115.1\t142\t30.227\t0.190476\t5.66189\n",
      "ENSOKIT00005001120.1\t142\t30.227\t0.190476\t5.66189\n",
      "ENSOKIT00005121828.1\t299\t125.532\t2.16179\t15.4729\n",
      "ENSOKIT00005121833.1\t299\t125.532\t2.16179\t15.4729\n",
      "ENSOKIT00005121838.1\t299\t125.532\t2.16179\t15.4729\n",
      "ENSOKIT00005121843.1\t299\t125.532\t2.16179\t15.4729\n",
      "ENSOKIT00005121848.1\t299\t125.532\t2.16179\t15.4729\n",
      "ENSOKIT00005121849.1\t299\t125.532\t2.16179\t15.4729\n",
      "ENSOKIT00005121855.1\t299\t125.532\t2.16179\t15.4729\n",
      "ENSOKIT00005121857.1\t299\t125.532\t2.16179\t15.4729\n",
      "ENSOKIT00005121863.1\t299\t125.532\t2.16179\t15.4729\n",
      "ENSOKIT00005121866.1\t299\t125.532\t2.16179\t15.4729\n"
     ]
    }
   ],
   "source": [
    "# read top and bottom of output tsv file\n",
    "! head output/abundance.tsv\n",
    "! tail output/abundance.tsv"
   ]
  },
  {
   "cell_type": "code",
   "execution_count": 22,
   "metadata": {},
   "outputs": [
    {
     "name": "stdout",
     "output_type": "stream",
     "text": [
      "{\n",
      "\t\"n_targets\": 7575,\n",
      "\t\"n_bootstraps\": 0,\n",
      "\t\"n_processed\": 29873562,\n",
      "\t\"n_pseudoaligned\": 1441286,\n",
      "\t\"n_unique\": 937504,\n",
      "\t\"p_pseudoaligned\": 4.8,\n",
      "\t\"p_unique\": 3.1,\n",
      "\t\"kallisto_version\": \"0.46.2\",\n",
      "\t\"index_version\": 10,\n",
      "\t\"start_time\": \"Wed Feb 10 22:02:48 2021\",\n",
      "\t\"call\": \"kallisto quant -i 0210-kallisto.idx -o output -b 100 /Volumes/Samsung USB/salmon/Files_Giles_Uploaded_For_Chris/17104-02RT-01-13_S21_L003_R1_001.fastq.gz /Volumes/Samsung USB/salmon/Files_Giles_Uploaded_For_Chris/17104-02RT-01-13_S21_L003_R2_001.fastq.gz\"\n",
      "}\n"
     ]
    }
   ],
   "source": [
    "# read run info file\n",
    "! cat output/run_info.json"
   ]
  },
  {
   "cell_type": "code",
   "execution_count": null,
   "metadata": {},
   "outputs": [],
   "source": []
  }
 ],
 "metadata": {
  "kernelspec": {
   "display_name": "Python 3",
   "language": "python",
   "name": "python3"
  },
  "language_info": {
   "codemirror_mode": {
    "name": "ipython",
    "version": 3
   },
   "file_extension": ".py",
   "mimetype": "text/x-python",
   "name": "python",
   "nbconvert_exporter": "python",
   "pygments_lexer": "ipython3",
   "version": "3.8.5"
  }
 },
 "nbformat": 4,
 "nbformat_minor": 4
}
