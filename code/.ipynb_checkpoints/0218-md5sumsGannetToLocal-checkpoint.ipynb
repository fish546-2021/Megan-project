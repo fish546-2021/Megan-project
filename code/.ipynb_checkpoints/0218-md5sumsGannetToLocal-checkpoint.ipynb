{
 "cells": [
  {
   "cell_type": "markdown",
   "metadata": {},
   "source": [
    "# Generating md5 checksums for file transfers from Gannet to Local Directory"
   ]
  },
  {
   "cell_type": "markdown",
   "metadata": {},
   "source": [
    "## Make sure the code file `0218-gettingDataFromGannet.ipynb` gets ran before this script :)"
   ]
  },
  {
   "cell_type": "markdown",
   "metadata": {},
   "source": [
    "If on MacOS and you don't already have md5sum installed (the -c option doesn't work with mac's default md5) download with homebrew using `brew install md5sha1sum` in terminal"
   ]
  },
  {
   "cell_type": "code",
   "execution_count": 7,
   "metadata": {},
   "outputs": [
    {
     "name": "stdout",
     "output_type": "stream",
     "text": [
      "/Volumes/Samsung USB/Megan-project/data/raw\n"
     ]
    }
   ],
   "source": [
    "cd ../data/raw/"
   ]
  },
  {
   "cell_type": "markdown",
   "metadata": {},
   "source": [
    "We change directories here because otherwise the md5sum output file includes the path and file name which we don't want"
   ]
  },
  {
   "cell_type": "code",
   "execution_count": 15,
   "metadata": {},
   "outputs": [],
   "source": [
    "# generate md5sums of ../data/raw/ directory contents and save output to text file in ../analyses/\n",
    "! md5 -r *.fastq.gz \\\n",
    "> ../../analyses/0218-md5sums.txt"
   ]
  },
  {
   "cell_type": "code",
   "execution_count": 16,
   "metadata": {},
   "outputs": [
    {
     "name": "stdout",
     "output_type": "stream",
     "text": [
      "17104-02RT-01-13_S21_L002_R2_001.fastq.gz: OK\n",
      "17104-02RT-01-13_S21_L003_R1_001.fastq.gz: OK\n",
      "17104-02RT-01-13_S21_L003_R2_001.fastq.gz: OK\n",
      "17104-02RT-01-14_S22_L002_R1_001.fastq.gz: OK\n"
     ]
    }
   ],
   "source": [
    "# check our md5sums\n",
    "! md5sum -c ../../analyses/0218-md5sums.txt"
   ]
  },
  {
   "cell_type": "markdown",
   "metadata": {},
   "source": [
    "#### If everything looks OK, move onto the script `0218-fastqcAutoForMultipleFiles.ipynb`"
   ]
  },
  {
   "cell_type": "code",
   "execution_count": null,
   "metadata": {},
   "outputs": [],
   "source": []
  }
 ],
 "metadata": {
  "kernelspec": {
   "display_name": "Python 3",
   "language": "python",
   "name": "python3"
  },
  "language_info": {
   "codemirror_mode": {
    "name": "ipython",
    "version": 3
   },
   "file_extension": ".py",
   "mimetype": "text/x-python",
   "name": "python",
   "nbconvert_exporter": "python",
   "pygments_lexer": "ipython3",
   "version": "3.8.5"
  }
 },
 "nbformat": 4,
 "nbformat_minor": 4
}
