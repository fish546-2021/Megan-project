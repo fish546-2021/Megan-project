{
 "cells": [
  {
   "cell_type": "markdown",
   "metadata": {},
   "source": [
    "# Downloading Data from Gannet to Repository"
   ]
  },
  {
   "cell_type": "markdown",
   "metadata": {},
   "source": [
    "Data located at https://gannet.fish.washington.edu/mewing0/"
   ]
  },
  {
   "cell_type": "code",
   "execution_count": 6,
   "metadata": {},
   "outputs": [
    {
     "name": "stdout",
     "output_type": "stream",
     "text": [
      "/Volumes/Samsung USB/Megan-project/code\n"
     ]
    }
   ],
   "source": [
    "! pwd"
   ]
  },
  {
   "cell_type": "code",
   "execution_count": 7,
   "metadata": {},
   "outputs": [
    {
     "name": "stdout",
     "output_type": "stream",
     "text": [
      "mkdir: ../data/raw: File exists\n"
     ]
    }
   ],
   "source": [
    "# make directory for raw data to go to\n",
    "! mkdir ../data/raw"
   ]
  },
  {
   "cell_type": "code",
   "execution_count": 15,
   "metadata": {},
   "outputs": [
    {
     "name": "stdout",
     "output_type": "stream",
     "text": [
      "/Volumes/Samsung USB/Megan-project/data/raw\n"
     ]
    }
   ],
   "source": [
    "cd ../data/raw"
   ]
  },
  {
   "cell_type": "code",
   "execution_count": 20,
   "metadata": {},
   "outputs": [
    {
     "name": "stdout",
     "output_type": "stream",
     "text": [
      "--2021-02-18 20:49:24--  https://gannet.fish.washington.edu/mewing0/\n",
      "Resolving gannet.fish.washington.edu (gannet.fish.washington.edu)... 128.95.149.52\n",
      "Connecting to gannet.fish.washington.edu (gannet.fish.washington.edu)|128.95.149.52|:443... connected.\n",
      "HTTP request sent, awaiting response... 200 OK\n",
      "Length: 1681 (1.6K) [text/html]\n",
      "Saving to: ‘index.html.tmp’\n",
      "\n",
      "index.html.tmp      100%[===================>]   1.64K  --.-KB/s    in 0s      \n",
      "\n",
      "2021-02-18 20:49:24 (534 MB/s) - ‘index.html.tmp’ saved [1681/1681]\n",
      "\n",
      "Loading robots.txt; please ignore errors.\n",
      "--2021-02-18 20:49:24--  https://gannet.fish.washington.edu/robots.txt\n",
      "Reusing existing connection to gannet.fish.washington.edu:443.\n",
      "HTTP request sent, awaiting response... 404 Not Found\n",
      "2021-02-18 20:49:24 ERROR 404: Not Found.\n",
      "\n",
      "Removing index.html.tmp since it should be rejected.\n",
      "\n",
      "--2021-02-18 20:49:24--  https://gannet.fish.washington.edu/mewing0/?C=N;O=D\n",
      "Reusing existing connection to gannet.fish.washington.edu:443.\n",
      "HTTP request sent, awaiting response... 200 OK\n",
      "Length: 1681 (1.6K) [text/html]\n",
      "Saving to: ‘index.html?C=N;O=D.tmp’\n",
      "\n",
      "index.html?C=N;O=D. 100%[===================>]   1.64K  --.-KB/s    in 0s      \n",
      "\n",
      "2021-02-18 20:49:24 (200 MB/s) - ‘index.html?C=N;O=D.tmp’ saved [1681/1681]\n",
      "\n",
      "Removing index.html?C=N;O=D.tmp since it should be rejected.\n",
      "\n",
      "--2021-02-18 20:49:24--  https://gannet.fish.washington.edu/mewing0/?C=M;O=A\n",
      "Reusing existing connection to gannet.fish.washington.edu:443.\n",
      "HTTP request sent, awaiting response... 200 OK\n",
      "Length: 1681 (1.6K) [text/html]\n",
      "Saving to: ‘index.html?C=M;O=A.tmp’\n",
      "\n",
      "index.html?C=M;O=A. 100%[===================>]   1.64K  --.-KB/s    in 0s      \n",
      "\n",
      "2021-02-18 20:49:24 (534 MB/s) - ‘index.html?C=M;O=A.tmp’ saved [1681/1681]\n",
      "\n",
      "Removing index.html?C=M;O=A.tmp since it should be rejected.\n",
      "\n",
      "--2021-02-18 20:49:24--  https://gannet.fish.washington.edu/mewing0/?C=S;O=A\n",
      "Reusing existing connection to gannet.fish.washington.edu:443.\n",
      "HTTP request sent, awaiting response... 200 OK\n",
      "Length: 1681 (1.6K) [text/html]\n",
      "Saving to: ‘index.html?C=S;O=A.tmp’\n",
      "\n",
      "index.html?C=S;O=A. 100%[===================>]   1.64K  --.-KB/s    in 0s      \n",
      "\n",
      "2021-02-18 20:49:24 (401 MB/s) - ‘index.html?C=S;O=A.tmp’ saved [1681/1681]\n",
      "\n",
      "Removing index.html?C=S;O=A.tmp since it should be rejected.\n",
      "\n",
      "--2021-02-18 20:49:24--  https://gannet.fish.washington.edu/mewing0/?C=D;O=A\n",
      "Reusing existing connection to gannet.fish.washington.edu:443.\n",
      "HTTP request sent, awaiting response... 200 OK\n",
      "Length: 1681 (1.6K) [text/html]\n",
      "Saving to: ‘index.html?C=D;O=A.tmp’\n",
      "\n",
      "index.html?C=D;O=A. 100%[===================>]   1.64K  --.-KB/s    in 0s      \n",
      "\n",
      "2021-02-18 20:49:24 (534 MB/s) - ‘index.html?C=D;O=A.tmp’ saved [1681/1681]\n",
      "\n",
      "Removing index.html?C=D;O=A.tmp since it should be rejected.\n",
      "\n",
      "--2021-02-18 20:49:24--  https://gannet.fish.washington.edu/mewing0/17104-02RT-01-13_S21_L002_R2_001.fastq.gz\n",
      "Reusing existing connection to gannet.fish.washington.edu:443.\n",
      "HTTP request sent, awaiting response... 200 OK\n",
      "Length: 2812124916 (2.6G) [application/x-gzip]\n",
      "Saving to: ‘17104-02RT-01-13_S21_L002_R2_001.fastq.gz’\n",
      "\n",
      "17104-02RT-01-13_S2 100%[===================>]   2.62G  5.38MB/s    in 7m 8s   \n",
      "\n",
      "2021-02-18 20:56:32 (6.26 MB/s) - ‘17104-02RT-01-13_S21_L002_R2_001.fastq.gz’ saved [2812124916/2812124916]\n",
      "\n",
      "--2021-02-18 20:56:32--  https://gannet.fish.washington.edu/mewing0/17104-02RT-01-13_S21_L003_R1_001.fastq.gz\n",
      "Reusing existing connection to gannet.fish.washington.edu:443.\n",
      "HTTP request sent, awaiting response... 200 OK\n",
      "Length: 2584372008 (2.4G) [application/x-gzip]\n",
      "Saving to: ‘17104-02RT-01-13_S21_L003_R1_001.fastq.gz.1.tmp’\n",
      "\n",
      "17104-02RT-01-13_S2 100%[===================>]   2.41G  3.41MB/s    in 7m 52s  \n",
      "\n",
      "2021-02-18 21:04:24 (5.23 MB/s) - ‘17104-02RT-01-13_S21_L003_R1_001.fastq.gz.1.tmp’ saved [2584372008/2584372008]\n",
      "\n",
      "Removing 17104-02RT-01-13_S21_L003_R1_001.fastq.gz.1.tmp since it should be rejected.\n",
      "\n",
      "--2021-02-18 21:04:24--  https://gannet.fish.washington.edu/mewing0/17104-02RT-01-13_S21_L003_R2_001.fastq.gz\n",
      "Reusing existing connection to gannet.fish.washington.edu:443.\n",
      "HTTP request sent, awaiting response... 200 OK\n",
      "Length: 2847658204 (2.7G) [application/x-gzip]\n",
      "Saving to: ‘17104-02RT-01-13_S21_L003_R2_001.fastq.gz.1.tmp’\n",
      "\n",
      "17104-02RT-01-13_S2 100%[===================>]   2.65G  3.06MB/s    in 11m 47s \n",
      "\n",
      "2021-02-18 21:16:11 (3.84 MB/s) - ‘17104-02RT-01-13_S21_L003_R2_001.fastq.gz.1.tmp’ saved [2847658204/2847658204]\n",
      "\n",
      "Removing 17104-02RT-01-13_S21_L003_R2_001.fastq.gz.1.tmp since it should be rejected.\n",
      "\n",
      "--2021-02-18 21:16:11--  https://gannet.fish.washington.edu/mewing0/17104-02RT-01-14_S22_L002_R1_001.fastq.gz\n",
      "Reusing existing connection to gannet.fish.washington.edu:443.\n",
      "HTTP request sent, awaiting response... 200 OK\n",
      "Length: 3931988440 (3.7G) [application/x-gzip]\n",
      "Saving to: ‘17104-02RT-01-14_S22_L002_R1_001.fastq.gz’\n",
      "\n",
      "17104-02RT-01-14_S2 100%[===================>]   3.66G  6.88MB/s    in 17m 43s \n",
      "\n",
      "2021-02-18 21:33:54 (3.53 MB/s) - ‘17104-02RT-01-14_S22_L002_R1_001.fastq.gz’ saved [3931988440/3931988440]\n",
      "\n",
      "--2021-02-18 21:33:54--  https://gannet.fish.washington.edu/mewing0/?C=N;O=A\n",
      "Reusing existing connection to gannet.fish.washington.edu:443.\n",
      "HTTP request sent, awaiting response... 200 OK\n",
      "Length: 1681 (1.6K) [text/html]\n",
      "Saving to: ‘index.html?C=N;O=A.tmp’\n",
      "\n",
      "index.html?C=N;O=A. 100%[===================>]   1.64K  --.-KB/s    in 0s      \n",
      "\n",
      "2021-02-18 21:33:54 (267 MB/s) - ‘index.html?C=N;O=A.tmp’ saved [1681/1681]\n",
      "\n",
      "Removing index.html?C=N;O=A.tmp since it should be rejected.\n",
      "\n",
      "--2021-02-18 21:33:54--  https://gannet.fish.washington.edu/mewing0/?C=M;O=D\n",
      "Reusing existing connection to gannet.fish.washington.edu:443.\n",
      "HTTP request sent, awaiting response... 200 OK\n",
      "Length: 1681 (1.6K) [text/html]\n",
      "Saving to: ‘index.html?C=M;O=D.tmp’\n",
      "\n",
      "index.html?C=M;O=D. 100%[===================>]   1.64K  --.-KB/s    in 0s      \n",
      "\n",
      "2021-02-18 21:33:54 (802 MB/s) - ‘index.html?C=M;O=D.tmp’ saved [1681/1681]\n",
      "\n",
      "Removing index.html?C=M;O=D.tmp since it should be rejected.\n",
      "\n",
      "--2021-02-18 21:33:54--  https://gannet.fish.washington.edu/mewing0/?C=S;O=D\n",
      "Reusing existing connection to gannet.fish.washington.edu:443.\n",
      "HTTP request sent, awaiting response... 200 OK\n",
      "Length: 1681 (1.6K) [text/html]\n",
      "Saving to: ‘index.html?C=S;O=D.tmp’\n",
      "\n",
      "index.html?C=S;O=D. 100%[===================>]   1.64K  --.-KB/s    in 0s      \n",
      "\n",
      "2021-02-18 21:33:54 (401 MB/s) - ‘index.html?C=S;O=D.tmp’ saved [1681/1681]\n",
      "\n",
      "Removing index.html?C=S;O=D.tmp since it should be rejected.\n",
      "\n",
      "--2021-02-18 21:33:54--  https://gannet.fish.washington.edu/mewing0/?C=D;O=D\n",
      "Reusing existing connection to gannet.fish.washington.edu:443.\n",
      "HTTP request sent, awaiting response... 200 OK\n",
      "Length: 1681 (1.6K) [text/html]\n",
      "Saving to: ‘index.html?C=D;O=D.tmp’\n",
      "\n",
      "index.html?C=D;O=D. 100%[===================>]   1.64K  --.-KB/s    in 0s      \n",
      "\n",
      "2021-02-18 21:33:54 (401 MB/s) - ‘index.html?C=D;O=D.tmp’ saved [1681/1681]\n",
      "\n",
      "Removing index.html?C=D;O=D.tmp since it should be rejected.\n",
      "\n",
      "FINISHED --2021-02-18 21:33:54--\n",
      "Total wall clock time: 44m 31s\n",
      "Downloaded: 13 files, 11G in 44m 30s (4.35 MB/s)\n"
     ]
    }
   ],
   "source": [
    "# get raw data from gannet origin but only dowload \".fastq.gz\" files within that online directory, and limit search to just that directory (no parent directories)\n",
    "! wget -A \"*.fastq.gz\" -r -np -nd \"https://gannet.fish.washington.edu/mewing0/\""
   ]
  },
  {
   "cell_type": "code",
   "execution_count": null,
   "metadata": {},
   "outputs": [],
   "source": []
  }
 ],
 "metadata": {
  "kernelspec": {
   "display_name": "Python 3",
   "language": "python",
   "name": "python3"
  },
  "language_info": {
   "codemirror_mode": {
    "name": "ipython",
    "version": 3
   },
   "file_extension": ".py",
   "mimetype": "text/x-python",
   "name": "python",
   "nbconvert_exporter": "python",
   "pygments_lexer": "ipython3",
   "version": "3.8.5"
  }
 },
 "nbformat": 4,
 "nbformat_minor": 4
}
