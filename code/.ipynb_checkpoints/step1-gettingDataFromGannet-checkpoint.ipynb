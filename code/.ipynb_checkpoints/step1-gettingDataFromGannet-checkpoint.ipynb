{
 "cells": [
  {
   "cell_type": "markdown",
   "metadata": {},
   "source": [
    "# Downloading Data from Gannet to Repository"
   ]
  },
  {
   "cell_type": "markdown",
   "metadata": {},
   "source": [
    "Data located at https://gannet.fish.washington.edu/fish546_2021/Files_Giles_Uploaded_For_Chris/"
   ]
  },
  {
   "cell_type": "code",
   "execution_count": 3,
   "metadata": {},
   "outputs": [
    {
     "name": "stdout",
     "output_type": "stream",
     "text": [
      "/Volumes/Samsung USB/Megan-project/code\n"
     ]
    }
   ],
   "source": [
    "! pwd"
   ]
  },
  {
   "cell_type": "code",
   "execution_count": 4,
   "metadata": {},
   "outputs": [
    {
     "name": "stdout",
     "output_type": "stream",
     "text": [
      "mkdir: ../data/raw: File exists\n"
     ]
    }
   ],
   "source": [
    "# make directory for raw data to go to\n",
    "! mkdir ../data/raw"
   ]
  },
  {
   "cell_type": "code",
   "execution_count": 5,
   "metadata": {},
   "outputs": [
    {
     "name": "stdout",
     "output_type": "stream",
     "text": [
      "/Volumes/Samsung USB/Megan-project/data/raw\n"
     ]
    }
   ],
   "source": [
    "cd ../data/raw"
   ]
  },
  {
   "cell_type": "code",
   "execution_count": 8,
   "metadata": {},
   "outputs": [
    {
     "name": "stdout",
     "output_type": "stream",
     "text": [
      "--2021-02-23 22:01:47--  https://gannet.fish.washington.edu/fish546_2021/Files_Giles_Uploaded_For_Chris/\n",
      "Resolving gannet.fish.washington.edu (gannet.fish.washington.edu)... 128.95.149.52\n",
      "Connecting to gannet.fish.washington.edu (gannet.fish.washington.edu)|128.95.149.52|:443... connected.\n",
      "HTTP request sent, awaiting response... 200 OK\n",
      "Length: unspecified [text/html]\n",
      "Saving to: ‘index.html.tmp’\n",
      "\n",
      "index.html.tmp          [ <=>                ]   9.56K  --.-KB/s    in 0.003s  \n",
      "\n",
      "2021-02-23 22:01:47 (3.12 MB/s) - ‘index.html.tmp’ saved [9786]\n",
      "\n",
      "Loading robots.txt; please ignore errors.\n",
      "--2021-02-23 22:01:47--  https://gannet.fish.washington.edu/robots.txt\n",
      "Reusing existing connection to gannet.fish.washington.edu:443.\n",
      "HTTP request sent, awaiting response... 404 Not Found\n",
      "2021-02-23 22:01:47 ERROR 404: Not Found.\n",
      "\n",
      "Removing index.html.tmp since it should be rejected.\n",
      "\n",
      "--2021-02-23 22:01:47--  https://gannet.fish.washington.edu/fish546_2021/Files_Giles_Uploaded_For_Chris/?C=N;O=D\n",
      "Reusing existing connection to gannet.fish.washington.edu:443.\n",
      "HTTP request sent, awaiting response... 200 OK\n",
      "Length: unspecified [text/html]\n",
      "Saving to: ‘index.html?C=N;O=D.tmp’\n",
      "\n",
      "index.html?C=N;O=D.     [ <=>                ]   9.56K  --.-KB/s    in 0.003s  \n",
      "\n",
      "2021-02-23 22:01:47 (3.18 MB/s) - ‘index.html?C=N;O=D.tmp’ saved [9786]\n",
      "\n",
      "Removing index.html?C=N;O=D.tmp since it should be rejected.\n",
      "\n",
      "--2021-02-23 22:01:47--  https://gannet.fish.washington.edu/fish546_2021/Files_Giles_Uploaded_For_Chris/?C=M;O=A\n",
      "Reusing existing connection to gannet.fish.washington.edu:443.\n",
      "HTTP request sent, awaiting response... 200 OK\n",
      "Length: unspecified [text/html]\n",
      "Saving to: ‘index.html?C=M;O=A.tmp’\n",
      "\n",
      "index.html?C=M;O=A.     [ <=>                ]   9.56K  --.-KB/s    in 0.006s  \n",
      "\n",
      "2021-02-23 22:01:47 (1.50 MB/s) - ‘index.html?C=M;O=A.tmp’ saved [9786]\n",
      "\n",
      "Removing index.html?C=M;O=A.tmp since it should be rejected.\n",
      "\n",
      "--2021-02-23 22:01:47--  https://gannet.fish.washington.edu/fish546_2021/Files_Giles_Uploaded_For_Chris/?C=S;O=A\n",
      "Reusing existing connection to gannet.fish.washington.edu:443.\n",
      "HTTP request sent, awaiting response... 200 OK\n",
      "Length: unspecified [text/html]\n",
      "Saving to: ‘index.html?C=S;O=A.tmp’\n",
      "\n",
      "index.html?C=S;O=A.     [ <=>                ]   9.56K  --.-KB/s    in 0.004s  \n",
      "\n",
      "2021-02-23 22:01:47 (2.49 MB/s) - ‘index.html?C=S;O=A.tmp’ saved [9786]\n",
      "\n",
      "Removing index.html?C=S;O=A.tmp since it should be rejected.\n",
      "\n",
      "--2021-02-23 22:01:47--  https://gannet.fish.washington.edu/fish546_2021/Files_Giles_Uploaded_For_Chris/?C=D;O=A\n",
      "Reusing existing connection to gannet.fish.washington.edu:443.\n",
      "HTTP request sent, awaiting response... 200 OK\n",
      "Length: unspecified [text/html]\n",
      "Saving to: ‘index.html?C=D;O=A.tmp’\n",
      "\n",
      "index.html?C=D;O=A.     [ <=>                ]   9.56K  --.-KB/s    in 0.003s  \n",
      "\n",
      "2021-02-23 22:01:47 (3.68 MB/s) - ‘index.html?C=D;O=A.tmp’ saved [9786]\n",
      "\n",
      "Removing index.html?C=D;O=A.tmp since it should be rejected.\n",
      "\n",
      "--2021-02-23 22:01:47--  https://gannet.fish.washington.edu/fish546_2021/Files_Giles_Uploaded_For_Chris/17104-02RT-01-7_S15_L002_R1_001.fastq.gz\n",
      "Reusing existing connection to gannet.fish.washington.edu:443.\n",
      "HTTP request sent, awaiting response... 200 OK\n",
      "Length: 2477585881 (2.3G) [application/x-gzip]\n",
      "Saving to: ‘17104-02RT-01-7_S15_L002_R1_001.fastq.gz.1.tmp’\n",
      "\n",
      "17104-02RT-01-7_S15 100%[===================>]   2.31G  3.46MB/s    in 15m 51s \n",
      "\n",
      "2021-02-23 22:17:38 (2.48 MB/s) - ‘17104-02RT-01-7_S15_L002_R1_001.fastq.gz.1.tmp’ saved [2477585881/2477585881]\n",
      "\n",
      "Removing 17104-02RT-01-7_S15_L002_R1_001.fastq.gz.1.tmp since it should be rejected.\n",
      "\n",
      "--2021-02-23 22:17:38--  https://gannet.fish.washington.edu/fish546_2021/Files_Giles_Uploaded_For_Chris/17104-02RT-01-7_S15_L002_R2_001.fastq.gz\n",
      "Reusing existing connection to gannet.fish.washington.edu:443.\n",
      "HTTP request sent, awaiting response... 200 OK\n",
      "Length: 2681208665 (2.5G) [application/x-gzip]\n",
      "Saving to: ‘17104-02RT-01-7_S15_L002_R2_001.fastq.gz.1.tmp’\n",
      "\n",
      "17104-02RT-01-7_S15 100%[===================>]   2.50G  3.97MB/s    in 16m 6s  \n",
      "\n",
      "2021-02-23 22:33:44 (2.65 MB/s) - ‘17104-02RT-01-7_S15_L002_R2_001.fastq.gz.1.tmp’ saved [2681208665/2681208665]\n",
      "\n",
      "Removing 17104-02RT-01-7_S15_L002_R2_001.fastq.gz.1.tmp since it should be rejected.\n",
      "\n",
      "--2021-02-23 22:33:44--  https://gannet.fish.washington.edu/fish546_2021/Files_Giles_Uploaded_For_Chris/17104-02RT-01-7_S15_L003_R1_001.fastq.gz\n",
      "Reusing existing connection to gannet.fish.washington.edu:443.\n",
      "HTTP request sent, awaiting response... 200 OK\n",
      "Length: 2514606591 (2.3G) [application/x-gzip]\n",
      "Saving to: ‘17104-02RT-01-7_S15_L003_R1_001.fastq.gz.1.tmp’\n",
      "\n",
      "17104-02RT-01-7_S15 100%[===================>]   2.34G  2.21MB/s    in 15m 22s \n",
      "\n",
      "2021-02-23 22:49:06 (2.60 MB/s) - ‘17104-02RT-01-7_S15_L003_R1_001.fastq.gz.1.tmp’ saved [2514606591/2514606591]\n",
      "\n",
      "Removing 17104-02RT-01-7_S15_L003_R1_001.fastq.gz.1.tmp since it should be rejected.\n",
      "\n",
      "--2021-02-23 22:49:06--  https://gannet.fish.washington.edu/fish546_2021/Files_Giles_Uploaded_For_Chris/17104-02RT-01-7_S15_L003_R2_001.fastq.gz\n",
      "Reusing existing connection to gannet.fish.washington.edu:443.\n",
      "HTTP request sent, awaiting response... 200 OK\n",
      "Length: 2712891125 (2.5G) [application/x-gzip]\n",
      "Saving to: ‘17104-02RT-01-7_S15_L003_R2_001.fastq.gz.1.tmp’\n",
      "\n",
      "17104-02RT-01-7_S15 100%[===================>]   2.53G  3.53MB/s    in 14m 51s \n",
      "\n",
      "2021-02-23 23:03:57 (2.91 MB/s) - ‘17104-02RT-01-7_S15_L003_R2_001.fastq.gz.1.tmp’ saved [2712891125/2712891125]\n",
      "\n",
      "Removing 17104-02RT-01-7_S15_L003_R2_001.fastq.gz.1.tmp since it should be rejected.\n",
      "\n",
      "--2021-02-23 23:03:57--  https://gannet.fish.washington.edu/fish546_2021/Files_Giles_Uploaded_For_Chris/17104-02RT-01-8_S16_L002_R1_001.fastq.gz\n",
      "Reusing existing connection to gannet.fish.washington.edu:443.\n",
      "HTTP request sent, awaiting response... 200 OK\n",
      "Length: 3415589542 (3.2G) [application/x-gzip]\n",
      "Saving to: ‘17104-02RT-01-8_S16_L002_R1_001.fastq.gz.1.tmp’\n",
      "\n",
      "17104-02RT-01-8_S16 100%[===================>]   3.18G  1.45MB/s    in 14m 18s \n",
      "\n",
      "2021-02-23 23:18:15 (3.80 MB/s) - ‘17104-02RT-01-8_S16_L002_R1_001.fastq.gz.1.tmp’ saved [3415589542/3415589542]\n",
      "\n",
      "Removing 17104-02RT-01-8_S16_L002_R1_001.fastq.gz.1.tmp since it should be rejected.\n",
      "\n",
      "--2021-02-23 23:18:15--  https://gannet.fish.washington.edu/fish546_2021/Files_Giles_Uploaded_For_Chris/17104-02RT-01-8_S16_L002_R2_001.fastq.gz\n",
      "Reusing existing connection to gannet.fish.washington.edu:443.\n",
      "HTTP request sent, awaiting response... 200 OK\n",
      "Length: 3801258341 (3.5G) [application/x-gzip]\n",
      "Saving to: ‘17104-02RT-01-8_S16_L002_R2_001.fastq.gz.1.tmp’\n",
      "\n",
      "17104-02RT-01-8_S16 100%[===================>]   3.54G  3.44MB/s    in 17m 32s \n",
      "\n",
      "2021-02-23 23:35:47 (3.45 MB/s) - ‘17104-02RT-01-8_S16_L002_R2_001.fastq.gz.1.tmp’ saved [3801258341/3801258341]\n",
      "\n",
      "Removing 17104-02RT-01-8_S16_L002_R2_001.fastq.gz.1.tmp since it should be rejected.\n",
      "\n",
      "--2021-02-23 23:35:47--  https://gannet.fish.washington.edu/fish546_2021/Files_Giles_Uploaded_For_Chris/17104-02RT-01-8_S16_L003_R1_001.fastq.gz\n",
      "Reusing existing connection to gannet.fish.washington.edu:443.\n",
      "HTTP request sent, awaiting response... 200 OK\n",
      "Length: 3468819118 (3.2G) [application/x-gzip]\n",
      "Saving to: ‘17104-02RT-01-8_S16_L003_R1_001.fastq.gz.1.tmp’\n",
      "\n",
      "17104-02RT-01-8_S16 100%[===================>]   3.23G  3.10MB/s    in 17m 44s \n",
      "\n",
      "2021-02-23 23:53:31 (3.11 MB/s) - ‘17104-02RT-01-8_S16_L003_R1_001.fastq.gz.1.tmp’ saved [3468819118/3468819118]\n",
      "\n",
      "Removing 17104-02RT-01-8_S16_L003_R1_001.fastq.gz.1.tmp since it should be rejected.\n",
      "\n",
      "--2021-02-23 23:53:31--  https://gannet.fish.washington.edu/fish546_2021/Files_Giles_Uploaded_For_Chris/17104-02RT-01-8_S16_L003_R2_001.fastq.gz\n",
      "Reusing existing connection to gannet.fish.washington.edu:443.\n",
      "HTTP request sent, awaiting response... 200 OK\n",
      "Length: 3846949796 (3.6G) [application/x-gzip]\n",
      "Saving to: ‘17104-02RT-01-8_S16_L003_R2_001.fastq.gz.1.tmp’\n",
      "\n",
      "17104-02RT-01-8_S16 100%[===================>]   3.58G  2.72MB/s    in 19m 11s \n",
      "\n",
      "2021-02-24 00:12:42 (3.19 MB/s) - ‘17104-02RT-01-8_S16_L003_R2_001.fastq.gz.1.tmp’ saved [3846949796/3846949796]\n",
      "\n",
      "Removing 17104-02RT-01-8_S16_L003_R2_001.fastq.gz.1.tmp since it should be rejected.\n",
      "\n",
      "--2021-02-24 00:12:42--  https://gannet.fish.washington.edu/fish546_2021/Files_Giles_Uploaded_For_Chris/17104-02RT-01-9_S17_L002_R1_001.fastq.gz\n",
      "Reusing existing connection to gannet.fish.washington.edu:443.\n",
      "HTTP request sent, awaiting response... 200 OK\n",
      "Length: 5087736123 (4.7G) [application/x-gzip]\n",
      "Saving to: ‘17104-02RT-01-9_S17_L002_R1_001.fastq.gz.1.tmp’\n",
      "\n",
      "17104-02RT-01-9_S17  84%[===============>    ]   4.00G  3.73MB/s    in 19m 40s \n",
      "\n",
      "\n",
      "Cannot write to ‘17104-02RT-01-9_S17_L002_R1_001.fastq.gz.1.tmp’ (Success).\n",
      "FINISHED --2021-02-24 00:32:22--\n",
      "Total wall clock time: 2h 30m 36s\n",
      "Downloaded: 13 files, 23G in 2h 10m 54s (3.03 MB/s)\n"
     ]
    }
   ],
   "source": [
    "# get raw data from gannet origin but only dowload \".fastq.gz\" files within that online directory, and limit search to just that directory (no parent directories)\n",
    "! wget -A \"*.fastq.gz\" -r -np -nd \"https://gannet.fish.washington.edu/fish546_2021/Files_Giles_Uploaded_For_Chris/\""
   ]
  },
  {
   "cell_type": "markdown",
   "metadata": {},
   "source": [
    "## my repo is stored on a USB and because of the limitations that come along with that, I am unable to download all the fastq.gz files from Gannet, but if you are running this on a computer or external harddrive that doesn't have download size limits, you should be A.O.K :)"
   ]
  },
  {
   "cell_type": "code",
   "execution_count": null,
   "metadata": {},
   "outputs": [],
   "source": []
  }
 ],
 "metadata": {
  "kernelspec": {
   "display_name": "Python 3",
   "language": "python",
   "name": "python3"
  },
  "language_info": {
   "codemirror_mode": {
    "name": "ipython",
    "version": 3
   },
   "file_extension": ".py",
   "mimetype": "text/x-python",
   "name": "python",
   "nbconvert_exporter": "python",
   "pygments_lexer": "ipython3",
   "version": "3.8.5"
  }
 },
 "nbformat": 4,
 "nbformat_minor": 4
}
