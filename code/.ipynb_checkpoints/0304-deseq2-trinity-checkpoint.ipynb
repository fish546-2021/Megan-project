{
 "cells": [
  {
   "cell_type": "code",
   "execution_count": 1,
   "metadata": {},
   "outputs": [
    {
     "name": "stdout",
     "output_type": "stream",
     "text": [
      "/Volumes/Samsung USB/Megan-project/code\n"
     ]
    }
   ],
   "source": [
    "! pwd"
   ]
  },
  {
   "cell_type": "code",
   "execution_count": 2,
   "metadata": {},
   "outputs": [
    {
     "name": "stdout",
     "output_type": "stream",
     "text": [
      "/Volumes/Samsung USB/Megan-project/analyses\n"
     ]
    }
   ],
   "source": [
    "cd ../analyses"
   ]
  },
  {
   "cell_type": "code",
   "execution_count": 8,
   "metadata": {},
   "outputs": [
    {
     "name": "stdout",
     "output_type": "stream",
     "text": [
      "\u001b[31m0128-Giles-md5sums.txt\u001b[m\u001b[m \u001b[31m0218-md5sums.txt\u001b[m\u001b[m       \u001b[31m0303-md5sums.txt\u001b[m\u001b[m\n",
      "\u001b[31m0209-md5sums.txt\u001b[m\u001b[m       \u001b[31m0218-md5sumsGannet.txt\u001b[m\u001b[m \u001b[31msamples_file.txt\u001b[m\u001b[m\n"
     ]
    }
   ],
   "source": [
    "! ls *.txt "
   ]
  },
  {
   "cell_type": "code",
   "execution_count": 6,
   "metadata": {},
   "outputs": [
    {
     "name": "stdout",
     "output_type": "stream",
     "text": [
      "Got 4 samples, and got: 5 data fields.\n",
      "Header: 17104-02RT-01-7_S15_L003\t17104-02RT-01-8_S16_L002\t17104-02RT-01-10_S18_L002\t17104-02RT-01-11_S19_L002\n",
      "Next: ENSOKIT00005001041.1\t0\t0\t0\t0\n",
      "\n",
      "$VAR1 = {\n",
      "          '17104-02RT-01-7_S15_L003' => 1,\n",
      "          '17104-02RT-01-11_S19_L002' => 4,\n",
      "          '17104-02RT-01-10_S18_L002' => 3,\n",
      "          '17104-02RT-01-8_S16_L002' => 2\n",
      "        };\n",
      "Error, cannot locate samples file: /Volumes/Samsung USB/Megan-project/analyses/samples_file.txt at /Applications/trinityrnaseq-v2.11.0/Analysis/DifferentialExpression/run_DE_analysis.pl line 311.\n"
     ]
    }
   ],
   "source": [
    "! /Applications/trinityrnaseq-v2.11.0/Analysis/DifferentialExpression/run_DE_analysis.pl \\\n",
    "      --matrix kallisto.isoform.counts.matrix \\\n",
    "      --samples_file samples_file.txt \\\n",
    "      --method DESeq2 \\\n",
    "      --output DESeq2_trans"
   ]
  },
  {
   "cell_type": "code",
   "execution_count": null,
   "metadata": {},
   "outputs": [],
   "source": [
    "! ls -ltr DESeq2_trans/"
   ]
  },
  {
   "cell_type": "code",
   "execution_count": null,
   "metadata": {},
   "outputs": [],
   "source": [
    "! head DESeq2_trans/Trinity.isoform.counts.matrix.GSNO_vs_wt.DESeq2.DE_results | column -t "
   ]
  },
  {
   "cell_type": "code",
   "execution_count": null,
   "metadata": {},
   "outputs": [],
   "source": []
  }
 ],
 "metadata": {
  "kernelspec": {
   "display_name": "Python 3",
   "language": "python",
   "name": "python3"
  },
  "language_info": {
   "codemirror_mode": {
    "name": "ipython",
    "version": 3
   },
   "file_extension": ".py",
   "mimetype": "text/x-python",
   "name": "python",
   "nbconvert_exporter": "python",
   "pygments_lexer": "ipython3",
   "version": "3.8.5"
  }
 },
 "nbformat": 4,
 "nbformat_minor": 4
}
