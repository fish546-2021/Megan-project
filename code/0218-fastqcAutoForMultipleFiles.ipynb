{
 "cells": [
  {
   "cell_type": "markdown",
   "metadata": {},
   "source": [
    "# Running Fastqc for multiple files in a single folder"
   ]
  },
  {
   "cell_type": "markdown",
   "metadata": {},
   "source": [
    "## Make sure the code files `0218-gettingDataFromGannet.ipynb` and `02118-md5sumsGannetToLocal.ipynb` gets run before this script (in that order) :)"
   ]
  },
  {
   "cell_type": "code",
   "execution_count": 1,
   "metadata": {},
   "outputs": [],
   "source": [
    "# make program executable from command line\n",
    "! chmod u+x /Applications/FastQC/fastQC"
   ]
  },
  {
   "cell_type": "code",
   "execution_count": 4,
   "metadata": {},
   "outputs": [
    {
     "name": "stdout",
     "output_type": "stream",
     "text": [
      "mkdir: ../analyses/0218-fastqc/: File exists\n"
     ]
    }
   ],
   "source": [
    "# make directory for results to go to\n",
    "! mkdir ../analyses/0218-fastqc/"
   ]
  },
  {
   "cell_type": "code",
   "execution_count": 6,
   "metadata": {},
   "outputs": [
    {
     "name": "stdout",
     "output_type": "stream",
     "text": [
      "Started analysis of 17104-02RT-01-13_S21_L002_R2_001.fastq.gz\n",
      "Approx 5% complete for 17104-02RT-01-13_S21_L002_R2_001.fastq.gz\n",
      "Approx 10% complete for 17104-02RT-01-13_S21_L002_R2_001.fastq.gz\n",
      "Approx 15% complete for 17104-02RT-01-13_S21_L002_R2_001.fastq.gz\n",
      "Approx 20% complete for 17104-02RT-01-13_S21_L002_R2_001.fastq.gz\n",
      "Approx 25% complete for 17104-02RT-01-13_S21_L002_R2_001.fastq.gz\n",
      "Approx 30% complete for 17104-02RT-01-13_S21_L002_R2_001.fastq.gz\n",
      "Approx 35% complete for 17104-02RT-01-13_S21_L002_R2_001.fastq.gz\n",
      "Approx 40% complete for 17104-02RT-01-13_S21_L002_R2_001.fastq.gz\n",
      "Approx 45% complete for 17104-02RT-01-13_S21_L002_R2_001.fastq.gz\n",
      "Approx 50% complete for 17104-02RT-01-13_S21_L002_R2_001.fastq.gz\n",
      "Approx 55% complete for 17104-02RT-01-13_S21_L002_R2_001.fastq.gz\n",
      "Approx 60% complete for 17104-02RT-01-13_S21_L002_R2_001.fastq.gz\n",
      "Approx 65% complete for 17104-02RT-01-13_S21_L002_R2_001.fastq.gz\n",
      "Approx 70% complete for 17104-02RT-01-13_S21_L002_R2_001.fastq.gz\n",
      "Approx 75% complete for 17104-02RT-01-13_S21_L002_R2_001.fastq.gz\n",
      "Approx 80% complete for 17104-02RT-01-13_S21_L002_R2_001.fastq.gz\n",
      "Approx 85% complete for 17104-02RT-01-13_S21_L002_R2_001.fastq.gz\n",
      "Approx 90% complete for 17104-02RT-01-13_S21_L002_R2_001.fastq.gz\n",
      "Approx 95% complete for 17104-02RT-01-13_S21_L002_R2_001.fastq.gz\n",
      "Analysis complete for 17104-02RT-01-13_S21_L002_R2_001.fastq.gz\n",
      "Started analysis of 17104-02RT-01-13_S21_L003_R1_001.fastq.gz\n",
      "Approx 5% complete for 17104-02RT-01-13_S21_L003_R1_001.fastq.gz\n",
      "Approx 10% complete for 17104-02RT-01-13_S21_L003_R1_001.fastq.gz\n",
      "Approx 15% complete for 17104-02RT-01-13_S21_L003_R1_001.fastq.gz\n",
      "Approx 20% complete for 17104-02RT-01-13_S21_L003_R1_001.fastq.gz\n",
      "Approx 25% complete for 17104-02RT-01-13_S21_L003_R1_001.fastq.gz\n",
      "Approx 30% complete for 17104-02RT-01-13_S21_L003_R1_001.fastq.gz\n",
      "Approx 35% complete for 17104-02RT-01-13_S21_L003_R1_001.fastq.gz\n",
      "Approx 40% complete for 17104-02RT-01-13_S21_L003_R1_001.fastq.gz\n",
      "Approx 45% complete for 17104-02RT-01-13_S21_L003_R1_001.fastq.gz\n",
      "Approx 50% complete for 17104-02RT-01-13_S21_L003_R1_001.fastq.gz\n",
      "Approx 55% complete for 17104-02RT-01-13_S21_L003_R1_001.fastq.gz\n",
      "Approx 60% complete for 17104-02RT-01-13_S21_L003_R1_001.fastq.gz\n",
      "Approx 65% complete for 17104-02RT-01-13_S21_L003_R1_001.fastq.gz\n",
      "Approx 70% complete for 17104-02RT-01-13_S21_L003_R1_001.fastq.gz\n",
      "Approx 75% complete for 17104-02RT-01-13_S21_L003_R1_001.fastq.gz\n",
      "Approx 80% complete for 17104-02RT-01-13_S21_L003_R1_001.fastq.gz\n",
      "Approx 85% complete for 17104-02RT-01-13_S21_L003_R1_001.fastq.gz\n",
      "Approx 90% complete for 17104-02RT-01-13_S21_L003_R1_001.fastq.gz\n",
      "Approx 95% complete for 17104-02RT-01-13_S21_L003_R1_001.fastq.gz\n",
      "Analysis complete for 17104-02RT-01-13_S21_L003_R1_001.fastq.gz\n",
      "Started analysis of 17104-02RT-01-13_S21_L003_R2_001.fastq.gz\n",
      "Approx 5% complete for 17104-02RT-01-13_S21_L003_R2_001.fastq.gz\n",
      "Approx 10% complete for 17104-02RT-01-13_S21_L003_R2_001.fastq.gz\n",
      "Approx 15% complete for 17104-02RT-01-13_S21_L003_R2_001.fastq.gz\n",
      "Approx 20% complete for 17104-02RT-01-13_S21_L003_R2_001.fastq.gz\n",
      "Approx 25% complete for 17104-02RT-01-13_S21_L003_R2_001.fastq.gz\n",
      "Approx 30% complete for 17104-02RT-01-13_S21_L003_R2_001.fastq.gz\n",
      "Approx 35% complete for 17104-02RT-01-13_S21_L003_R2_001.fastq.gz\n",
      "Approx 40% complete for 17104-02RT-01-13_S21_L003_R2_001.fastq.gz\n",
      "Approx 45% complete for 17104-02RT-01-13_S21_L003_R2_001.fastq.gz\n",
      "Approx 50% complete for 17104-02RT-01-13_S21_L003_R2_001.fastq.gz\n",
      "Approx 55% complete for 17104-02RT-01-13_S21_L003_R2_001.fastq.gz\n",
      "Approx 60% complete for 17104-02RT-01-13_S21_L003_R2_001.fastq.gz\n",
      "Approx 65% complete for 17104-02RT-01-13_S21_L003_R2_001.fastq.gz\n",
      "Approx 70% complete for 17104-02RT-01-13_S21_L003_R2_001.fastq.gz\n",
      "Approx 75% complete for 17104-02RT-01-13_S21_L003_R2_001.fastq.gz\n",
      "Approx 80% complete for 17104-02RT-01-13_S21_L003_R2_001.fastq.gz\n",
      "Approx 85% complete for 17104-02RT-01-13_S21_L003_R2_001.fastq.gz\n",
      "Approx 90% complete for 17104-02RT-01-13_S21_L003_R2_001.fastq.gz\n",
      "Approx 95% complete for 17104-02RT-01-13_S21_L003_R2_001.fastq.gz\n",
      "Analysis complete for 17104-02RT-01-13_S21_L003_R2_001.fastq.gz\n",
      "Started analysis of 17104-02RT-01-14_S22_L002_R1_001.fastq.gz\n",
      "Approx 5% complete for 17104-02RT-01-14_S22_L002_R1_001.fastq.gz\n",
      "Approx 10% complete for 17104-02RT-01-14_S22_L002_R1_001.fastq.gz\n",
      "Approx 15% complete for 17104-02RT-01-14_S22_L002_R1_001.fastq.gz\n",
      "Approx 20% complete for 17104-02RT-01-14_S22_L002_R1_001.fastq.gz\n",
      "Approx 25% complete for 17104-02RT-01-14_S22_L002_R1_001.fastq.gz\n",
      "Approx 30% complete for 17104-02RT-01-14_S22_L002_R1_001.fastq.gz\n",
      "Approx 35% complete for 17104-02RT-01-14_S22_L002_R1_001.fastq.gz\n",
      "Approx 40% complete for 17104-02RT-01-14_S22_L002_R1_001.fastq.gz\n",
      "Approx 45% complete for 17104-02RT-01-14_S22_L002_R1_001.fastq.gz\n",
      "Approx 50% complete for 17104-02RT-01-14_S22_L002_R1_001.fastq.gz\n",
      "Approx 55% complete for 17104-02RT-01-14_S22_L002_R1_001.fastq.gz\n",
      "Approx 60% complete for 17104-02RT-01-14_S22_L002_R1_001.fastq.gz\n",
      "Approx 65% complete for 17104-02RT-01-14_S22_L002_R1_001.fastq.gz\n",
      "Approx 70% complete for 17104-02RT-01-14_S22_L002_R1_001.fastq.gz\n",
      "Approx 75% complete for 17104-02RT-01-14_S22_L002_R1_001.fastq.gz\n",
      "Approx 80% complete for 17104-02RT-01-14_S22_L002_R1_001.fastq.gz\n",
      "Approx 85% complete for 17104-02RT-01-14_S22_L002_R1_001.fastq.gz\n",
      "Approx 90% complete for 17104-02RT-01-14_S22_L002_R1_001.fastq.gz\n",
      "Approx 95% complete for 17104-02RT-01-14_S22_L002_R1_001.fastq.gz\n",
      "Analysis complete for 17104-02RT-01-14_S22_L002_R1_001.fastq.gz\n"
     ]
    }
   ],
   "source": [
    "# Run fastqc for all our raw data files and send output to directory just created\n",
    "!/Applications/FastQC/fastQC \\\n",
    "../data/raw/*fastq.gz \\\n",
    "-o ../analyses/0218-fastqc/"
   ]
  },
  {
   "cell_type": "code",
   "execution_count": null,
   "metadata": {},
   "outputs": [],
   "source": []
  }
 ],
 "metadata": {
  "kernelspec": {
   "display_name": "Python 3",
   "language": "python",
   "name": "python3"
  },
  "language_info": {
   "codemirror_mode": {
    "name": "ipython",
    "version": 3
   },
   "file_extension": ".py",
   "mimetype": "text/x-python",
   "name": "python",
   "nbconvert_exporter": "python",
   "pygments_lexer": "ipython3",
   "version": "3.8.5"
  }
 },
 "nbformat": 4,
 "nbformat_minor": 4
}
