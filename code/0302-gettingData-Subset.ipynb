{
 "cells": [
  {
   "cell_type": "markdown",
   "metadata": {},
   "source": [
    "# Downloading Data from Gannet to Repository"
   ]
  },
  {
   "cell_type": "markdown",
   "metadata": {},
   "source": [
    "Data located at https://gannet.fish.washington.edu/mewing0/"
   ]
  },
  {
   "cell_type": "code",
   "execution_count": 2,
   "metadata": {},
   "outputs": [
    {
     "name": "stdout",
     "output_type": "stream",
     "text": [
      "/Volumes/Samsung USB/Megan-project/code\n"
     ]
    }
   ],
   "source": [
    "! pwd"
   ]
  },
  {
   "cell_type": "code",
   "execution_count": 3,
   "metadata": {},
   "outputs": [
    {
     "name": "stdout",
     "output_type": "stream",
     "text": [
      "mkdir: ../data/raw: File exists\n"
     ]
    }
   ],
   "source": [
    "# make directory for raw data to go to\n",
    "! mkdir ../data/raw"
   ]
  },
  {
   "cell_type": "code",
   "execution_count": 4,
   "metadata": {},
   "outputs": [
    {
     "name": "stdout",
     "output_type": "stream",
     "text": [
      "/Volumes/Samsung USB/Megan-project/data/raw\n"
     ]
    }
   ],
   "source": [
    "cd ../data/raw"
   ]
  },
  {
   "cell_type": "code",
   "execution_count": 7,
   "metadata": {},
   "outputs": [
    {
     "name": "stdout",
     "output_type": "stream",
     "text": [
      "--2021-03-02 12:10:50--  https://gannet.fish.washington.edu/fish546_2021/Files_Giles_Uploaded_For_Chris/\n",
      "Resolving gannet.fish.washington.edu (gannet.fish.washington.edu)... 128.95.149.52\n",
      "Connecting to gannet.fish.washington.edu (gannet.fish.washington.edu)|128.95.149.52|:443... connected.\n",
      "HTTP request sent, awaiting response... 200 OK\n",
      "Length: unspecified [text/html]\n",
      "Saving to: ‘index.html.tmp’\n",
      "\n",
      "index.html.tmp          [ <=>                ]   9.56K  --.-KB/s    in 0.003s  \n",
      "\n",
      "2021-03-02 12:10:50 (2.79 MB/s) - ‘index.html.tmp’ saved [9786]\n",
      "\n",
      "Loading robots.txt; please ignore errors.\n",
      "--2021-03-02 12:10:50--  https://gannet.fish.washington.edu/robots.txt\n",
      "Reusing existing connection to gannet.fish.washington.edu:443.\n",
      "HTTP request sent, awaiting response... 404 Not Found\n",
      "2021-03-02 12:10:50 ERROR 404: Not Found.\n",
      "\n",
      "Removing index.html.tmp since it should be rejected.\n",
      "\n",
      "--2021-03-02 12:10:50--  https://gannet.fish.washington.edu/fish546_2021/Files_Giles_Uploaded_For_Chris/?C=N;O=D\n",
      "Reusing existing connection to gannet.fish.washington.edu:443.\n",
      "HTTP request sent, awaiting response... 200 OK\n",
      "Length: unspecified [text/html]\n",
      "Saving to: ‘index.html?C=N;O=D.tmp’\n",
      "\n",
      "index.html?C=N;O=D.     [ <=>                ]   9.56K  --.-KB/s    in 0.001s  \n",
      "\n",
      "2021-03-02 12:10:50 (18.5 MB/s) - ‘index.html?C=N;O=D.tmp’ saved [9786]\n",
      "\n",
      "Removing index.html?C=N;O=D.tmp since it should be rejected.\n",
      "\n",
      "--2021-03-02 12:10:50--  https://gannet.fish.washington.edu/fish546_2021/Files_Giles_Uploaded_For_Chris/?C=M;O=A\n",
      "Reusing existing connection to gannet.fish.washington.edu:443.\n",
      "HTTP request sent, awaiting response... 200 OK\n",
      "Length: unspecified [text/html]\n",
      "Saving to: ‘index.html?C=M;O=A.tmp’\n",
      "\n",
      "index.html?C=M;O=A.     [ <=>                ]   9.56K  --.-KB/s    in 0.001s  \n",
      "\n",
      "2021-03-02 12:10:50 (9.42 MB/s) - ‘index.html?C=M;O=A.tmp’ saved [9786]\n",
      "\n",
      "Removing index.html?C=M;O=A.tmp since it should be rejected.\n",
      "\n",
      "--2021-03-02 12:10:50--  https://gannet.fish.washington.edu/fish546_2021/Files_Giles_Uploaded_For_Chris/?C=S;O=A\n",
      "Reusing existing connection to gannet.fish.washington.edu:443.\n",
      "HTTP request sent, awaiting response... 200 OK\n",
      "Length: unspecified [text/html]\n",
      "Saving to: ‘index.html?C=S;O=A.tmp’\n",
      "\n",
      "index.html?C=S;O=A.     [ <=>                ]   9.56K  --.-KB/s    in 0.001s  \n",
      "\n",
      "2021-03-02 12:10:50 (8.89 MB/s) - ‘index.html?C=S;O=A.tmp’ saved [9786]\n",
      "\n",
      "Removing index.html?C=S;O=A.tmp since it should be rejected.\n",
      "\n",
      "--2021-03-02 12:10:50--  https://gannet.fish.washington.edu/fish546_2021/Files_Giles_Uploaded_For_Chris/?C=D;O=A\n",
      "Reusing existing connection to gannet.fish.washington.edu:443.\n",
      "HTTP request sent, awaiting response... 200 OK\n",
      "Length: unspecified [text/html]\n",
      "Saving to: ‘index.html?C=D;O=A.tmp’\n",
      "\n",
      "index.html?C=D;O=A.     [ <=>                ]   9.56K  --.-KB/s    in 0.001s  \n",
      "\n",
      "2021-03-02 12:10:50 (11.7 MB/s) - ‘index.html?C=D;O=A.tmp’ saved [9786]\n",
      "\n",
      "Removing index.html?C=D;O=A.tmp since it should be rejected.\n",
      "\n",
      "--2021-03-02 12:10:50--  https://gannet.fish.washington.edu/fish546_2021/Files_Giles_Uploaded_For_Chris/17104-02RT-01-11_S19_L002_R1_001.fastq.gz\n",
      "Reusing existing connection to gannet.fish.washington.edu:443.\n",
      "HTTP request sent, awaiting response... 200 OK\n",
      "Length: 2221306871 (2.1G) [application/x-gzip]\n",
      "Saving to: ‘17104-02RT-01-11_S19_L002_R1_001.fastq.gz’\n",
      "\n",
      "17104-02RT-01-11_S1 100%[===================>]   2.07G  6.85MB/s    in 5m 31s  \n",
      "\n",
      "2021-03-02 12:16:21 (6.41 MB/s) - ‘17104-02RT-01-11_S19_L002_R1_001.fastq.gz’ saved [2221306871/2221306871]\n",
      "\n",
      "--2021-03-02 12:16:21--  https://gannet.fish.washington.edu/fish546_2021/Files_Giles_Uploaded_For_Chris/17104-02RT-01-11_S19_L002_R2_001.fastq.gz\n",
      "Reusing existing connection to gannet.fish.washington.edu:443.\n",
      "HTTP request sent, awaiting response... 200 OK\n",
      "Length: 2447561364 (2.3G) [application/x-gzip]\n",
      "Saving to: ‘17104-02RT-01-11_S19_L002_R2_001.fastq.gz’\n",
      "\n",
      "17104-02RT-01-11_S1 100%[===================>]   2.28G  6.59MB/s    in 6m 5s   \n",
      "\n",
      "2021-03-02 12:22:26 (6.39 MB/s) - ‘17104-02RT-01-11_S19_L002_R2_001.fastq.gz’ saved [2447561364/2447561364]\n",
      "\n",
      "--2021-03-02 12:22:26--  https://gannet.fish.washington.edu/fish546_2021/Files_Giles_Uploaded_For_Chris/?C=N;O=A\n",
      "Reusing existing connection to gannet.fish.washington.edu:443.\n",
      "HTTP request sent, awaiting response... 200 OK\n",
      "Length: unspecified [text/html]\n",
      "Saving to: ‘index.html?C=N;O=A.tmp’\n",
      "\n",
      "index.html?C=N;O=A.     [ <=>                ]   9.56K  --.-KB/s    in 0.001s  \n",
      "\n",
      "2021-03-02 12:22:26 (6.31 MB/s) - ‘index.html?C=N;O=A.tmp’ saved [9786]\n",
      "\n",
      "Removing index.html?C=N;O=A.tmp since it should be rejected.\n",
      "\n",
      "--2021-03-02 12:22:26--  https://gannet.fish.washington.edu/fish546_2021/Files_Giles_Uploaded_For_Chris/?C=M;O=D\n",
      "Reusing existing connection to gannet.fish.washington.edu:443.\n",
      "HTTP request sent, awaiting response... 200 OK\n",
      "Length: unspecified [text/html]\n",
      "Saving to: ‘index.html?C=M;O=D.tmp’\n",
      "\n",
      "index.html?C=M;O=D.     [ <=>                ]   9.56K  --.-KB/s    in 0.002s  \n",
      "\n",
      "2021-03-02 12:22:26 (3.87 MB/s) - ‘index.html?C=M;O=D.tmp’ saved [9786]\n",
      "\n",
      "Removing index.html?C=M;O=D.tmp since it should be rejected.\n",
      "\n",
      "--2021-03-02 12:22:26--  https://gannet.fish.washington.edu/fish546_2021/Files_Giles_Uploaded_For_Chris/?C=S;O=D\n",
      "Reusing existing connection to gannet.fish.washington.edu:443.\n",
      "HTTP request sent, awaiting response... 200 OK\n",
      "Length: unspecified [text/html]\n",
      "Saving to: ‘index.html?C=S;O=D.tmp’\n",
      "\n",
      "index.html?C=S;O=D.     [ <=>                ]   9.56K  --.-KB/s    in 0.002s  \n",
      "\n",
      "2021-03-02 12:22:26 (6.13 MB/s) - ‘index.html?C=S;O=D.tmp’ saved [9786]\n",
      "\n",
      "Removing index.html?C=S;O=D.tmp since it should be rejected.\n",
      "\n",
      "--2021-03-02 12:22:26--  https://gannet.fish.washington.edu/fish546_2021/Files_Giles_Uploaded_For_Chris/?C=D;O=D\n",
      "Reusing existing connection to gannet.fish.washington.edu:443.\n",
      "HTTP request sent, awaiting response... 200 OK\n",
      "Length: unspecified [text/html]\n",
      "Saving to: ‘index.html?C=D;O=D.tmp’\n",
      "\n",
      "index.html?C=D;O=D.     [ <=>                ]   9.56K  --.-KB/s    in 0.001s  \n",
      "\n",
      "2021-03-02 12:22:26 (7.65 MB/s) - ‘index.html?C=D;O=D.tmp’ saved [9786]\n",
      "\n",
      "Removing index.html?C=D;O=D.tmp since it should be rejected.\n",
      "\n",
      "FINISHED --2021-03-02 12:22:26--\n",
      "Total wall clock time: 11m 36s\n",
      "Downloaded: 11 files, 4.3G in 11m 36s (6.40 MB/s)\n"
     ]
    }
   ],
   "source": [
    "# get raw data from gannet origin but only dowload \".fastq.gz\" files within that online directory, and limit search to just that directory (no parent directories)\n",
    "! wget -A \"17104-02RT-01-11_S19_L002_*.fastq.gz\" -r -np -nd \"https://gannet.fish.washington.edu/fish546_2021/Files_Giles_Uploaded_For_Chris/\""
   ]
  },
  {
   "cell_type": "code",
   "execution_count": null,
   "metadata": {},
   "outputs": [],
   "source": []
  },
  {
   "cell_type": "code",
   "execution_count": null,
   "metadata": {},
   "outputs": [],
   "source": []
  }
 ],
 "metadata": {
  "kernelspec": {
   "display_name": "Python 3",
   "language": "python",
   "name": "python3"
  },
  "language_info": {
   "codemirror_mode": {
    "name": "ipython",
    "version": 3
   },
   "file_extension": ".py",
   "mimetype": "text/x-python",
   "name": "python",
   "nbconvert_exporter": "python",
   "pygments_lexer": "ipython3",
   "version": "3.8.5"
  }
 },
 "nbformat": 4,
 "nbformat_minor": 4
}
