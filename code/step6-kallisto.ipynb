{
 "cells": [
  {
   "cell_type": "markdown",
   "metadata": {},
   "source": [
    "# Quantifying expression with Kallisto"
   ]
  },
  {
   "cell_type": "code",
   "execution_count": 1,
   "metadata": {},
   "outputs": [
    {
     "name": "stdout",
     "output_type": "stream",
     "text": [
      "kallisto 0.46.2\n",
      "\n",
      "Usage: kallisto <CMD> [arguments] ..\n",
      "\n",
      "Where <CMD> can be one of:\n",
      "\n",
      "    index         Builds a kallisto index \n",
      "    quant         Runs the quantification algorithm \n",
      "    bus           Generate BUS files for single-cell data \n",
      "    pseudo        Runs the pseudoalignment step \n",
      "    merge         Merges several batch runs \n",
      "    h5dump        Converts HDF5-formatted results to plaintext\n",
      "    inspect       Inspects and gives information about an index\n",
      "    version       Prints version information\n",
      "    cite          Prints citation information\n",
      "\n",
      "Running kallisto <CMD> without arguments prints usage information for <CMD>\n",
      "\n"
     ]
    }
   ],
   "source": [
    "! kallisto"
   ]
  },
  {
   "cell_type": "code",
   "execution_count": 2,
   "metadata": {},
   "outputs": [
    {
     "name": "stdout",
     "output_type": "stream",
     "text": [
      "/Volumes/Samsung USB/Megan-project/code\n"
     ]
    }
   ],
   "source": [
    "! pwd"
   ]
  },
  {
   "cell_type": "code",
   "execution_count": 4,
   "metadata": {},
   "outputs": [
    {
     "name": "stdout",
     "output_type": "stream",
     "text": [
      "/Volumes/Samsung USB/Megan-project/analyses\n"
     ]
    }
   ],
   "source": [
    "cd ../analyses/"
   ]
  },
  {
   "cell_type": "code",
   "execution_count": 5,
   "metadata": {},
   "outputs": [
    {
     "name": "stdout",
     "output_type": "stream",
     "text": [
      "\n",
      "[build] loading fasta file ../data/Oncorhynchus_kisutch.Okis_V2.ncrna.fa.gz\n",
      "[build] k-mer length: 31\n",
      "[build] warning: clipped off poly-A tail (longer than 10)\n",
      "        from 1 target sequences\n",
      "[build] warning: replaced 428 non-ACGUT characters in the input sequence\n",
      "        with pseudorandom nucleotides\n",
      "[build] counting k-mers ... done.\n",
      "[build] building target de Bruijn graph ...  done \n",
      "[build] creating equivalence classes ...  done\n",
      "[build] target de Bruijn graph has 68217 contigs and contains 3374345 k-mers \n",
      "\n"
     ]
    }
   ],
   "source": [
    "# Build index. File Oncorhynchus_kisutch.Okis_V2.ncrna.fa.gz is ensembl reference transcriptome\n",
    "! kallisto index -i step6-kallisto.idx ../data/Oncorhynchus_kisutch.Okis_V2.ncrna.fa.gz"
   ]
  },
  {
   "cell_type": "code",
   "execution_count": 11,
   "metadata": {},
   "outputs": [
    {
     "name": "stdout",
     "output_type": "stream",
     "text": [
      "/Volumes/Samsung USB/Megan-project/analyses\n"
     ]
    }
   ],
   "source": [
    "! pwd"
   ]
  },
  {
   "cell_type": "code",
   "execution_count": 17,
   "metadata": {},
   "outputs": [
    {
     "name": "stdout",
     "output_type": "stream",
     "text": [
      "\n",
      "[quant] fragment length distribution will be estimated from the data\n",
      "[index] k-mer length: 31\n",
      "[index] number of targets: 7,575\n",
      "[index] number of k-mers: 3,374,345\n",
      "[index] number of equivalence classes: 17,826\n",
      "[quant] running in paired-end mode\n",
      "[quant] will process pair 1: ../data/raw/17104-02RT-01-7_S15_L003_R1_001.fastq.gz\n",
      "                             ../data/raw/17104-02RT-01-7_S15_L003_R2_001.fastq.gz\n",
      "[quant] finding pseudoalignments for the reads ... done\n",
      "[quant] processed 29,422,828 reads, 1,448,380 reads pseudoaligned\n",
      "[quant] estimated average fragment length: 243.31\n",
      "[   em] quantifying the abundances ... done\n",
      "[   em] the Expectation-Maximization algorithm ran for 1,187 rounds\n",
      "\n"
     ]
    }
   ],
   "source": [
    "# quantify expression using kallisto for first control sample\n",
    "! kallisto quant -i step6-kallisto.idx \\\n",
    "-t 4 \\\n",
    "-o step6-output/17104-02RT-01-7_S15_L003/ \\\n",
    "../data/raw/17104-02RT-01-7_S15_L003_R1_001.fastq.gz \\\n",
    "../data/raw/17104-02RT-01-7_S15_L003_R2_001.fastq.gz"
   ]
  },
  {
   "cell_type": "code",
   "execution_count": 18,
   "metadata": {},
   "outputs": [
    {
     "name": "stdout",
     "output_type": "stream",
     "text": [
      "\n",
      "[quant] fragment length distribution will be estimated from the data\n",
      "[index] k-mer length: 31\n",
      "[index] number of targets: 7,575\n",
      "[index] number of k-mers: 3,374,345\n",
      "[index] number of equivalence classes: 17,826\n",
      "[quant] running in paired-end mode\n",
      "[quant] will process pair 1: ../data/raw/17104-02RT-01-8_S16_L002_R1_001.fastq.gz\n",
      "                             ../data/raw/17104-02RT-01-8_S16_L002_R2_001.fastq.gz\n",
      "[quant] finding pseudoalignments for the reads ... done\n",
      "[quant] processed 39,688,625 reads, 1,851,360 reads pseudoaligned\n",
      "[quant] estimated average fragment length: 298.89\n",
      "[   em] quantifying the abundances ... done\n",
      "[   em] the Expectation-Maximization algorithm ran for 1,030 rounds\n",
      "\n"
     ]
    }
   ],
   "source": [
    "# quantify expression using kallisto for second control sample\n",
    "! kallisto quant -i step6-kallisto.idx \\\n",
    "-t 4 \\\n",
    "-o step6-output/17104-02RT-01-8_S16_L002/ \\\n",
    "../data/raw/17104-02RT-01-8_S16_L002_R1_001.fastq.gz \\\n",
    "../data/raw/17104-02RT-01-8_S16_L002_R2_001.fastq.gz"
   ]
  },
  {
   "cell_type": "code",
   "execution_count": 19,
   "metadata": {},
   "outputs": [
    {
     "name": "stdout",
     "output_type": "stream",
     "text": [
      "\n",
      "[quant] fragment length distribution will be estimated from the data\n",
      "[index] k-mer length: 31\n",
      "[index] number of targets: 7,575\n",
      "[index] number of k-mers: 3,374,345\n",
      "[index] number of equivalence classes: 17,826\n",
      "[quant] running in paired-end mode\n",
      "[quant] will process pair 1: ../data/raw/17104-02RT-01-10_S18_L002_R1_001.fastq.gz\n",
      "                             ../data/raw/17104-02RT-01-10_S18_L002_R2_001.fastq.gz\n",
      "[quant] finding pseudoalignments for the reads ... done\n",
      "[quant] processed 38,354,483 reads, 1,846,504 reads pseudoaligned\n",
      "[quant] estimated average fragment length: 263.99\n",
      "[   em] quantifying the abundances ... done\n",
      "[   em] the Expectation-Maximization algorithm ran for 1,050 rounds\n",
      "\n"
     ]
    }
   ],
   "source": [
    "# quantify expression using kallisto for first treatment sample\n",
    "! kallisto quant -i step6-kallisto.idx \\\n",
    "-t 4 \\\n",
    "-o step6-output/17104-02RT-01-10_S18_L002/ \\\n",
    "../data/raw/17104-02RT-01-10_S18_L002_R1_001.fastq.gz \\\n",
    "../data/raw/17104-02RT-01-10_S18_L002_R2_001.fastq.gz"
   ]
  },
  {
   "cell_type": "code",
   "execution_count": 20,
   "metadata": {},
   "outputs": [
    {
     "name": "stdout",
     "output_type": "stream",
     "text": [
      "\n",
      "[quant] fragment length distribution will be estimated from the data\n",
      "[index] k-mer length: 31\n",
      "[index] number of targets: 7,575\n",
      "[index] number of k-mers: 3,374,345\n",
      "[index] number of equivalence classes: 17,826\n",
      "[quant] running in paired-end mode\n",
      "[quant] will process pair 1: ../data/raw/17104-02RT-01-11_S19_L002_R1_001.fastq.gz\n",
      "                             ../data/raw/17104-02RT-01-11_S19_L002_R2_001.fastq.gz\n",
      "[quant] finding pseudoalignments for the reads ... done\n",
      "[quant] processed 25,639,147 reads, 1,290,526 reads pseudoaligned\n",
      "[quant] estimated average fragment length: 288.794\n",
      "[   em] quantifying the abundances ... done\n",
      "[   em] the Expectation-Maximization algorithm ran for 1,112 rounds\n",
      "\n"
     ]
    }
   ],
   "source": [
    "# quantify expression using kallisto for second treatment sample\n",
    "! kallisto quant -i step6-kallisto.idx \\\n",
    "-t 4 \\\n",
    "-o step6-output/17104-02RT-01-11_S19_L002/ \\\n",
    "../data/raw/17104-02RT-01-11_S19_L002_R1_001.fastq.gz \\\n",
    "../data/raw/17104-02RT-01-11_S19_L002_R2_001.fastq.gz"
   ]
  },
  {
   "cell_type": "code",
   "execution_count": 7,
   "metadata": {},
   "outputs": [
    {
     "name": "stdout",
     "output_type": "stream",
     "text": [
      "/Volumes/Samsung USB/Megan-project/analyses\n"
     ]
    }
   ],
   "source": [
    "cd ../analyses"
   ]
  },
  {
   "cell_type": "code",
   "execution_count": 8,
   "metadata": {},
   "outputs": [
    {
     "name": "stdout",
     "output_type": "stream",
     "text": [
      "-reading file: ../analyses/step6-output/17104-02RT-01-7_S15_L003/abundance.tsv\n",
      "-reading file: ../analyses/step6-output/17104-02RT-01-8_S16_L002/abundance.tsv\n",
      "-reading file: ../analyses/step6-output/17104-02RT-01-10_S18_L002/abundance.tsv\n",
      "-reading file: ../analyses/step6-output/17104-02RT-01-11_S19_L002/abundance.tsv\n",
      "\n",
      "\n",
      "* Outputting combined matrix.\n",
      "\n",
      "/Applications/trinityrnaseq-v2.11.0/util/support_scripts/run_TMM_scale_matrix.pl --matrix kallisto.isoform.TPM.not_cross_norm > kallisto.isoform.TMM.EXPR.matrixCMD: R --no-save --no-restore --no-site-file --no-init-file -q < kallisto.isoform.TPM.not_cross_norm.runTMM.R 1>&2 \n",
      "dyld: Library not loaded: @rpath/libreadline.6.2.dylib\n",
      "  Referenced from: /Applications/miniconda3/lib/R/lib/libR.dylib\n",
      "  Reason: image not found\n",
      "sh: line 1: 82371 Abort trap: 6           R --no-save --no-restore --no-site-file --no-init-file -q < kallisto.isoform.TPM.not_cross_norm.runTMM.R 1>&2\n",
      "Error, cmd: R --no-save --no-restore --no-site-file --no-init-file -q < kallisto.isoform.TPM.not_cross_norm.runTMM.R 1>&2  died with ret (34304)  at /Applications/trinityrnaseq-v2.11.0/util/support_scripts/run_TMM_scale_matrix.pl line 105.\n",
      "Error, CMD: /Applications/trinityrnaseq-v2.11.0/util/support_scripts/run_TMM_scale_matrix.pl --matrix kallisto.isoform.TPM.not_cross_norm > kallisto.isoform.TMM.EXPR.matrix died with ret 6400 at /Applications/trinityrnaseq-v2.11.0/util/abundance_estimates_to_matrix.pl line 385.\n"
     ]
    }
   ],
   "source": [
    "# make trinity matrix with Kallisto output TSVs \n",
    "!perl /Applications/trinityrnaseq-v2.11.0/util/abundance_estimates_to_matrix.pl \\\n",
    "--est_method kallisto \\\n",
    "--gene_trans_map 'none' \\\n",
    "--out_prefix kallisto \\\n",
    "--name_sample_by_basedir \\\n",
    "../analyses/step6-output/17104-02RT-01-7_S15_L003/abundance.tsv \\\n",
    "../analyses/step6-output/17104-02RT-01-8_S16_L002/abundance.tsv \\\n",
    "../analyses/step6-output/17104-02RT-01-10_S18_L002/abundance.tsv \\\n",
    "../analyses/step6-output/17104-02RT-01-11_S19_L002/abundance.tsv "
   ]
  },
  {
   "cell_type": "code",
   "execution_count": null,
   "metadata": {},
   "outputs": [],
   "source": []
  }
 ],
 "metadata": {
  "kernelspec": {
   "display_name": "Python 3",
   "language": "python",
   "name": "python3"
  },
  "language_info": {
   "codemirror_mode": {
    "name": "ipython",
    "version": 3
   },
   "file_extension": ".py",
   "mimetype": "text/x-python",
   "name": "python",
   "nbconvert_exporter": "python",
   "pygments_lexer": "ipython3",
   "version": "3.8.5"
  }
 },
 "nbformat": 4,
 "nbformat_minor": 4
}
