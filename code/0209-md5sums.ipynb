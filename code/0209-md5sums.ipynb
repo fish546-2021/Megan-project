{
 "cells": [
  {
   "cell_type": "markdown",
   "metadata": {},
   "source": [
    "# md5 sums for a subset of salmon data provided by Chris Monson (UW) and Giles Goetz (NOAA)"
   ]
  },
  {
   "cell_type": "markdown",
   "metadata": {},
   "source": [
    "### Salmon data was moved from a NOAA server to ssh ostrich.washington.fish.edu . md5 sums for that trasfer are in this directory in `../analyses/0128-Giles-md5sums.txt`\n",
    "\n",
    "### The data was then copied to a local directory from ostrich using rsync. Here I will generate md5sums for the local copies to ensure the data didn't change during transfer"
   ]
  },
  {
   "cell_type": "code",
   "execution_count": 26,
   "metadata": {},
   "outputs": [
    {
     "name": "stdout",
     "output_type": "stream",
     "text": [
      "/Volumes/Samsung USB/salmon/Files_Giles_Uploaded_For_Chris\n"
     ]
    }
   ],
   "source": [
    "# Change into external storage directory where data is located\n",
    "\n",
    "cd /Volumes/Samsung\\ USB/salmon/Files_Giles_Uploaded_For_Chris"
   ]
  },
  {
   "cell_type": "code",
   "execution_count": 28,
   "metadata": {},
   "outputs": [
    {
     "name": "stdout",
     "output_type": "stream",
     "text": [
      "/Volumes/Samsung USB/salmon/Files_Giles_Uploaded_For_Chris\n",
      "\u001b[31m17104-02RT-01-10_S18_L002_R1_001.fastq.gz\u001b[m\u001b[m\n",
      "\u001b[31m17104-02RT-01-10_S18_L002_R2_001.fastq.gz\u001b[m\u001b[m\n",
      "\u001b[31m17104-02RT-01-10_S18_L003_R1_001.fastq.gz\u001b[m\u001b[m\n",
      "\u001b[31m17104-02RT-01-10_S18_L003_R2_001.fastq.gz\u001b[m\u001b[m\n",
      "\u001b[31m17104-02RT-01-11_S19_L002_R1_001.fastq.gz\u001b[m\u001b[m\n",
      "\u001b[31m17104-02RT-01-11_S19_L002_R2_001.fastq.gz\u001b[m\u001b[m\n",
      "\u001b[31m17104-02RT-01-11_S19_L003_R1_001.fastq.gz\u001b[m\u001b[m\n",
      "\u001b[31m17104-02RT-01-11_S19_L003_R2_001.fastq.gz\u001b[m\u001b[m\n",
      "\u001b[31m17104-02RT-01-12_S20_L002_R1_001.fastq.gz\u001b[m\u001b[m\n",
      "\u001b[31m17104-02RT-01-12_S20_L002_R2_001.fastq.gz\u001b[m\u001b[m\n",
      "\u001b[31m17104-02RT-01-12_S20_L003_R1_001.fastq.gz\u001b[m\u001b[m\n",
      "\u001b[31m17104-02RT-01-12_S20_L003_R2_001.fastq.gz\u001b[m\u001b[m\n",
      "\u001b[31m17104-02RT-01-13_S21_L002_R1_001.fastq.gz\u001b[m\u001b[m\n",
      "\u001b[31m17104-02RT-01-13_S21_L002_R2_001.fastq.gz\u001b[m\u001b[m\n",
      "\u001b[31m17104-02RT-01-13_S21_L003_R1_001.fastq.gz\u001b[m\u001b[m\n",
      "\u001b[31m17104-02RT-01-13_S21_L003_R2_001.fastq.gz\u001b[m\u001b[m\n",
      "\u001b[31m17104-02RT-01-14_S22_L002_R1_001.fastq.gz\u001b[m\u001b[m\n"
     ]
    }
   ],
   "source": [
    "# confirm we are in the right directory and see its contents. Note that this does not contain all the files there are in this dataset\n",
    "! pwd\n",
    "! ls"
   ]
  },
  {
   "cell_type": "code",
   "execution_count": 40,
   "metadata": {},
   "outputs": [
    {
     "name": "stdout",
     "output_type": "stream",
     "text": [
      "\n",
      "MD5(1)                    BSD General Commands Manual                   MD5(1)\n",
      "\n",
      "NAME\n",
      "     md5 -- calculate a message-digest fingerprint (checksum) for a file\n",
      "\n",
      "SYNOPSIS\n",
      "     md5 [-pqrtx] [-s string] [file ...]\n",
      "\n",
      "DESCRIPTION\n",
      "     The md5 utility takes as input a message of arbitrary length and produces\n",
      "     as output a ``fingerprint'' or ``message digest'' of the input.  It is\n",
      "     conjectured that it is computationally infeasible to produce two messages\n",
      "     having the same message digest, or to produce any message having a given\n",
      "     prespecified target message digest.  The MD5 algorithm is intended for\n",
      "     digital signature applications, where a large file must be ``compressed''\n",
      "     in a secure manner before being encrypted with a private (secret) key\n",
      "     under a public-key cryptosystem such as RSA.\n",
      "\n",
      "     MD5's designer Ron Rivest has stated \"md5 and sha1 are both clearly bro-\n",
      "     ken (in terms of collision-resistance)\".  So MD5 should be avoided when\n",
      "     creating new protocols, or implementing protocols with better options.\n",
      "     SHA256 and SHA512 are better options as they have been more resilient to\n",
      "     attacks (as of 2009).\n",
      "\n",
      "     The following options may be used in any combination and must precede any\n",
      "     files named on the command line.  The hexadecimal checksum of each file\n",
      "     listed on the command line is printed after the options are processed.\n",
      "\n",
      "     -s string\n",
      "             Print a checksum of the given string.\n",
      "\n",
      "     -p      Echo stdin to stdout and append the checksum to stdout.\n",
      "\n",
      "     -q      Quiet mode - only the checksum is printed out.  Overrides the -r\n",
      "             option.\n",
      "\n",
      "     -r      Reverses the format of the output.  This helps with visual diffs.\n",
      "             Does nothing when combined with the -ptx options.\n",
      "\n",
      "     -t      Run a built-in time trial.\n",
      "\n",
      "     -x      Run a built-in test script.\n",
      "\n",
      "EXIT STATUS\n",
      "     The md5 utility exits 0 on success, and 1 if at least one of the input\n",
      "     files could not be read.\n",
      "\n",
      "SEE ALSO\n",
      "     cksum(1), md5(3), ripemd(3), sha(3), CC_SHA256_Init(3)\n",
      "\n",
      "     Vlastimil Klima, Finding MD5 Collisions - a Toy For a Notebook,\n",
      "     Cryptology ePrint Archive: Report 2005/075.\n",
      "\n",
      "ACKNOWLEDGMENTS\n",
      "     This program is placed in the public domain for free general use by RSA\n",
      "     Data Security.\n",
      "\n",
      "BSD                              June 6, 2004                              BSD\n"
     ]
    }
   ],
   "source": [
    "! man md5"
   ]
  },
  {
   "cell_type": "code",
   "execution_count": 42,
   "metadata": {},
   "outputs": [],
   "source": [
    "# generate md5sums of directory contents and save output to text file\n",
    "! md5 -r *.fastq.gz \\\n",
    "> /Users/meganewing/Desktop/fish546/Megan-project/analyses/0209-md5sums.txt"
   ]
  },
  {
   "cell_type": "code",
   "execution_count": 43,
   "metadata": {},
   "outputs": [
    {
     "name": "stdout",
     "output_type": "stream",
     "text": [
      "29a45a32b9795baf8f9fde72a2e8d649 17104-02RT-01-10_S18_L002_R1_001.fastq.gz\n",
      "aa30e513dca34c8069e64142b90e364d 17104-02RT-01-10_S18_L002_R2_001.fastq.gz\n",
      "c589a1741d75c9a37c7f3c81e1942307 17104-02RT-01-10_S18_L003_R1_001.fastq.gz\n",
      "4b4b18145761e2dcb031d62556923bfe 17104-02RT-01-10_S18_L003_R2_001.fastq.gz\n",
      "98f084db762b4be055d07fd4029d4641 17104-02RT-01-11_S19_L002_R1_001.fastq.gz\n",
      "4a611133e2e7fa7091a5184ba1a50892 17104-02RT-01-11_S19_L002_R2_001.fastq.gz\n",
      "e6c7abcffe849ec824566862052ace11 17104-02RT-01-11_S19_L003_R1_001.fastq.gz\n",
      "1545ec8dff2d4947c108d2c998e87ef3 17104-02RT-01-11_S19_L003_R2_001.fastq.gz\n",
      "cc87a41a76c968eb486a8b53e1fbf25b 17104-02RT-01-12_S20_L002_R1_001.fastq.gz\n",
      "818b212ebc5f5c4ba75ff5b906082859 17104-02RT-01-12_S20_L002_R2_001.fastq.gz\n"
     ]
    }
   ],
   "source": [
    "! head /Users/meganewing/Desktop/fish546/Megan-project/analyses/0209-md5sums.txt"
   ]
  },
  {
   "cell_type": "code",
   "execution_count": 49,
   "metadata": {},
   "outputs": [
    {
     "name": "stdout",
     "output_type": "stream",
     "text": [
      "17104-02RT-01-10_S18_L002_R1_001.fastq.gz: OK\n",
      "17104-02RT-01-10_S18_L002_R2_001.fastq.gz: OK\n",
      "17104-02RT-01-10_S18_L003_R1_001.fastq.gz: OK\n",
      "17104-02RT-01-10_S18_L003_R2_001.fastq.gz: OK\n",
      "17104-02RT-01-11_S19_L002_R1_001.fastq.gz: OK\n",
      "17104-02RT-01-11_S19_L002_R2_001.fastq.gz: OK\n",
      "17104-02RT-01-11_S19_L003_R1_001.fastq.gz: OK\n",
      "17104-02RT-01-11_S19_L003_R2_001.fastq.gz: OK\n",
      "17104-02RT-01-12_S20_L002_R1_001.fastq.gz: OK\n",
      "17104-02RT-01-12_S20_L002_R2_001.fastq.gz: OK\n",
      "17104-02RT-01-12_S20_L003_R1_001.fastq.gz: OK\n",
      "17104-02RT-01-12_S20_L003_R2_001.fastq.gz: OK\n",
      "17104-02RT-01-13_S21_L002_R1_001.fastq.gz: OK\n",
      "17104-02RT-01-13_S21_L002_R2_001.fastq.gz: OK\n",
      "17104-02RT-01-13_S21_L003_R1_001.fastq.gz: OK\n",
      "17104-02RT-01-13_S21_L003_R2_001.fastq.gz: OK\n",
      "17104-02RT-01-14_S22_L002_R1_001.fastq.gz: OK\n"
     ]
    }
   ],
   "source": [
    "# Check to make sure files match original version\n",
    "! md5sum -c \\\n",
    "/Users/meganewing/Desktop/fish546/Megan-project/analyses/0209-md5sums.txt "
   ]
  },
  {
   "cell_type": "code",
   "execution_count": 50,
   "metadata": {},
   "outputs": [
    {
     "name": "stdout",
     "output_type": "stream",
     "text": [
      "1,17c1,23\n",
      "< 29a45a32b9795baf8f9fde72a2e8d649 17104-02RT-01-10_S18_L002_R1_001.fastq.gz\n",
      "< aa30e513dca34c8069e64142b90e364d 17104-02RT-01-10_S18_L002_R2_001.fastq.gz\n",
      "< c589a1741d75c9a37c7f3c81e1942307 17104-02RT-01-10_S18_L003_R1_001.fastq.gz\n",
      "< 4b4b18145761e2dcb031d62556923bfe 17104-02RT-01-10_S18_L003_R2_001.fastq.gz\n",
      "< 98f084db762b4be055d07fd4029d4641 17104-02RT-01-11_S19_L002_R1_001.fastq.gz\n",
      "< 4a611133e2e7fa7091a5184ba1a50892 17104-02RT-01-11_S19_L002_R2_001.fastq.gz\n",
      "< e6c7abcffe849ec824566862052ace11 17104-02RT-01-11_S19_L003_R1_001.fastq.gz\n",
      "< 1545ec8dff2d4947c108d2c998e87ef3 17104-02RT-01-11_S19_L003_R2_001.fastq.gz\n",
      "< cc87a41a76c968eb486a8b53e1fbf25b 17104-02RT-01-12_S20_L002_R1_001.fastq.gz\n",
      "< 818b212ebc5f5c4ba75ff5b906082859 17104-02RT-01-12_S20_L002_R2_001.fastq.gz\n",
      "< e413420173067c5d3ac94f03730f3a18 17104-02RT-01-12_S20_L003_R1_001.fastq.gz\n",
      "< 40913cf4e85d9f878732b1c04aee8371 17104-02RT-01-12_S20_L003_R2_001.fastq.gz\n",
      "< 9cd821a56e5a93842f6e0904ca898305 17104-02RT-01-13_S21_L002_R1_001.fastq.gz\n",
      "< 7428a1a5b99bbc29e52b9fa434da0594 17104-02RT-01-13_S21_L002_R2_001.fastq.gz\n",
      "< b5dbcb567244f98f81949af6c6e7c0f2 17104-02RT-01-13_S21_L003_R1_001.fastq.gz\n",
      "< 6edc2aa6055f0c23d9de7cba4916fea3 17104-02RT-01-13_S21_L003_R2_001.fastq.gz\n",
      "< f6e425fb5a9af6c628aada2e5c8ab07d 17104-02RT-01-14_S22_L002_R1_001.fastq.gz\n",
      "---\n",
      "> 7428a1a5b99bbc29e52b9fa434da0594  17104-02RT-01-13_S21_L002_R2_001.fastq.gz\n",
      "> b5dbcb567244f98f81949af6c6e7c0f2  17104-02RT-01-13_S21_L003_R1_001.fastq.gz\n",
      "> 6edc2aa6055f0c23d9de7cba4916fea3  17104-02RT-01-13_S21_L003_R2_001.fastq.gz\n",
      "> f6e425fb5a9af6c628aada2e5c8ab07d  17104-02RT-01-14_S22_L002_R1_001.fastq.gz\n",
      "> 84398a6affa926544090f965a75fbd9f  17104-02RT-01-14_S22_L002_R2_001.fastq.gz\n",
      "> 91f332ef940002e96544c904b00c1da7  17104-02RT-01-14_S22_L003_R1_001.fastq.gz\n",
      "> 896c061a41545bf62d51b5b0a71ea622  17104-02RT-01-14_S22_L003_R2_001.fastq.gz\n",
      "> 910ad2d49e4a7e826b9b75b63bb0da13  17104-02RT-01-15_S23_L002_R1_001.fastq.gz\n",
      "> 1b812b36cbf3e327d8bed30ae4c56fde  17104-02RT-01-15_S23_L002_R2_001.fastq.gz\n",
      "> 07912c1b82851a9ec59ec7061169851a  17104-02RT-01-15_S23_L003_R1_001.fastq.gz\n",
      "> d602bc0179dae70b0e7067390d56a789  17104-02RT-01-15_S23_L003_R2_001.fastq.gz\n",
      "> dfcaec44d09b00617f6b69ffdfc6607d  17104-02RT-01-7_S15_L002_R1_001.fastq.gz\n",
      "> f524f2b23902a402eca36bcd37611108  17104-02RT-01-7_S15_L002_R2_001.fastq.gz\n",
      "> 20d0249f6952f8159ac55c3666fe2225  17104-02RT-01-7_S15_L003_R1_001.fastq.gz\n",
      "> 1f4b8344d8d95d9b76d8fbb7f94f90ad  17104-02RT-01-7_S15_L003_R2_001.fastq.gz\n",
      "> 2121ccd55e2defbfbe9b09ebbefc4a58  17104-02RT-01-8_S16_L002_R1_001.fastq.gz\n",
      "> 9a6d41e28fd567fa3aef429fc41132a8  17104-02RT-01-8_S16_L002_R2_001.fastq.gz\n",
      "> e28f6b25e1c0dd8da030cffc8733ab69  17104-02RT-01-8_S16_L003_R1_001.fastq.gz\n",
      "> 628053739bc4f7a96c487d5ee345feb6  17104-02RT-01-8_S16_L003_R2_001.fastq.gz\n",
      "> 425fa719ef694cf806f16076555ae16d  17104-02RT-01-9_S17_L002_R1_001.fastq.gz\n",
      "> 34ad2d43b72f2f4c863142b26cd3f9b7  17104-02RT-01-9_S17_L002_R2_001.fastq.gz\n",
      "> b7e475a5998e2c33a0b0469ed2730a94  17104-02RT-01-9_S17_L003_R1_001.fastq.gz\n",
      "> f582a9f2d1a2e8f6caa5c123d363456a  17104-02RT-01-9_S17_L003_R2_001.fastq.gz\n"
     ]
    }
   ],
   "source": [
    "! diff \\\n",
    "/Users/meganewing/Desktop/fish546/Megan-project/analyses/0209-md5sums.txt \\\n",
    "/Users/meganewing/Desktop/fish546/Megan-project/analyses/0128-Giles-md5sums.txt "
   ]
  },
  {
   "cell_type": "markdown",
   "metadata": {},
   "source": [
    "### It seems that some of my file names have changed from their original location, but I'm unsure why. Specifically `17104-02RT-01-7...` through `17104-02RT-01-9...` Additionally, the only files that *did* have matching md5sums and file names were  \n",
    "17104-02RT-01-13_S21_L002_R2_001.fastq.gz \n",
    "\n",
    "17104-02RT-01-13_S21_L003_R1_001.fastq.gz\n",
    "\n",
    "17104-02RT-01-13_S21_L003_R2_001.fastq.gz\n",
    "\n",
    "17104-02RT-01-14_S22_L002_R1_001.fastq.gz\n",
    "\n",
    "### I'm unsure why all the others changed, but `17104-02RT-01-13_S21_L003_R2_001.fastq.gz` is unchanged and the md5sums match, so for the draft product to do the workflow with start to finish, I will use this file.\n"
   ]
  },
  {
   "cell_type": "code",
   "execution_count": null,
   "metadata": {},
   "outputs": [],
   "source": []
  }
 ],
 "metadata": {
  "kernelspec": {
   "display_name": "Python 3",
   "language": "python",
   "name": "python3"
  },
  "language_info": {
   "codemirror_mode": {
    "name": "ipython",
    "version": 3
   },
   "file_extension": ".py",
   "mimetype": "text/x-python",
   "name": "python",
   "nbconvert_exporter": "python",
   "pygments_lexer": "ipython3",
   "version": "3.8.5"
  }
 },
 "nbformat": 4,
 "nbformat_minor": 4
}
