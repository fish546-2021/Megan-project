{
 "cells": [
  {
   "cell_type": "markdown",
   "metadata": {},
   "source": [
    "# Trimming low quality bases in the subset of data using `seqtk trimq` (page 347 of the book) to prep them for Kallisto\n",
    "\n",
    "## For some reason the .gz files won't read as gunzip, but my pre-trim fastqc indicated that the quality was good enough for the purposes of quantifying expression with Kallisto"
   ]
  },
  {
   "cell_type": "code",
   "execution_count": 3,
   "metadata": {},
   "outputs": [],
   "source": [
    "# Trim R2\n",
    "! seqtk trimfq \\\n",
    "/Volumes/Samsung\\ USB/salmon/Files_Giles_Uploaded_For_Chris/17104-02RT-01-13_S21_L003_R2_001.fastq.gz \\\n",
    "> /Volumes/Samsung\\ USB/salmon/Files_Giles_Uploaded_For_Chris/17104-02RT-01-13_S21_L003_R2_001_trim.fastq.gz "
   ]
  },
  {
   "cell_type": "markdown",
   "metadata": {},
   "source": [
    "#### Redo Fastqc for trimmed R2"
   ]
  },
  {
   "cell_type": "code",
   "execution_count": 4,
   "metadata": {},
   "outputs": [
    {
     "name": "stdout",
     "output_type": "stream",
     "text": [
      "Failed to process /Volumes/Samsung USB/salmon/Files_Giles_Uploaded_For_Chris/17104-02RT-01-13_S21_L003_R2_001_trim.fastq.gz\n",
      "java.util.zip.ZipException: Not in GZIP format\n",
      "\tat java.util.zip.GZIPInputStream.readHeader(GZIPInputStream.java:165)\n",
      "\tat java.util.zip.GZIPInputStream.<init>(GZIPInputStream.java:79)\n",
      "\tat java.util.zip.GZIPInputStream.<init>(GZIPInputStream.java:91)\n",
      "\tat uk.ac.babraham.FastQC.Utilities.MultiMemberGZIPInputStream.<init>(MultiMemberGZIPInputStream.java:37)\n",
      "\tat uk.ac.babraham.FastQC.Sequence.FastQFile.<init>(FastQFile.java:80)\n",
      "\tat uk.ac.babraham.FastQC.Sequence.SequenceFactory.getSequenceFile(SequenceFactory.java:106)\n",
      "\tat uk.ac.babraham.FastQC.Sequence.SequenceFactory.getSequenceFile(SequenceFactory.java:62)\n",
      "\tat uk.ac.babraham.FastQC.Analysis.OfflineRunner.processFile(OfflineRunner.java:159)\n",
      "\tat uk.ac.babraham.FastQC.Analysis.OfflineRunner.<init>(OfflineRunner.java:121)\n",
      "\tat uk.ac.babraham.FastQC.FastQCApplication.main(FastQCApplication.java:316)\n"
     ]
    }
   ],
   "source": [
    "!/Applications/FastQC/fastQC \\\n",
    "/Volumes/Samsung\\ USB/salmon/Files_Giles_Uploaded_For_Chris/17104-02RT-01-13_S21_L003_R2_001_trim.fastq.gz \\\n",
    "-o ../analyses/0210-fastqc/"
   ]
  },
  {
   "cell_type": "markdown",
   "metadata": {},
   "source": [
    "## Repeat for R1"
   ]
  },
  {
   "cell_type": "code",
   "execution_count": 7,
   "metadata": {},
   "outputs": [],
   "source": [
    "# Trim R1\n",
    "! seqtk trimfq \\\n",
    "/Volumes/Samsung\\ USB/salmon/Files_Giles_Uploaded_For_Chris/17104-02RT-01-13_S21_L003_R1_001.fastq.gz \\\n",
    "> /Volumes/Samsung\\ USB/salmon/Files_Giles_Uploaded_For_Chris/17104-02RT-01-13_S21_L003_R1_001_trim.fastq.gz "
   ]
  },
  {
   "cell_type": "markdown",
   "metadata": {},
   "source": [
    "#### Redo Fastqc for trimmed R1"
   ]
  },
  {
   "cell_type": "code",
   "execution_count": 8,
   "metadata": {},
   "outputs": [
    {
     "name": "stdout",
     "output_type": "stream",
     "text": [
      "Failed to process /Volumes/Samsung USB/salmon/Files_Giles_Uploaded_For_Chris/17104-02RT-01-13_S21_L003_R1_001_trim.fastq.gz\n",
      "java.util.zip.ZipException: Not in GZIP format\n",
      "\tat java.util.zip.GZIPInputStream.readHeader(GZIPInputStream.java:165)\n",
      "\tat java.util.zip.GZIPInputStream.<init>(GZIPInputStream.java:79)\n",
      "\tat java.util.zip.GZIPInputStream.<init>(GZIPInputStream.java:91)\n",
      "\tat uk.ac.babraham.FastQC.Utilities.MultiMemberGZIPInputStream.<init>(MultiMemberGZIPInputStream.java:37)\n",
      "\tat uk.ac.babraham.FastQC.Sequence.FastQFile.<init>(FastQFile.java:80)\n",
      "\tat uk.ac.babraham.FastQC.Sequence.SequenceFactory.getSequenceFile(SequenceFactory.java:106)\n",
      "\tat uk.ac.babraham.FastQC.Sequence.SequenceFactory.getSequenceFile(SequenceFactory.java:62)\n",
      "\tat uk.ac.babraham.FastQC.Analysis.OfflineRunner.processFile(OfflineRunner.java:159)\n",
      "\tat uk.ac.babraham.FastQC.Analysis.OfflineRunner.<init>(OfflineRunner.java:121)\n",
      "\tat uk.ac.babraham.FastQC.FastQCApplication.main(FastQCApplication.java:316)\n"
     ]
    }
   ],
   "source": [
    "!/Applications/FastQC/fastQC \\\n",
    "/Volumes/Samsung\\ USB/salmon/Files_Giles_Uploaded_For_Chris/17104-02RT-01-13_S21_L003_R1_001_trim.fastq.gz \\\n",
    "-o ../analyses/0210-fastqc/"
   ]
  },
  {
   "cell_type": "markdown",
   "metadata": {},
   "source": [
    "## Look at new fastqc outputs"
   ]
  },
  {
   "cell_type": "code",
   "execution_count": null,
   "metadata": {},
   "outputs": [],
   "source": [
    "!ls ../analyses/0210-fastqc/"
   ]
  }
 ],
 "metadata": {
  "kernelspec": {
   "display_name": "Python 3",
   "language": "python",
   "name": "python3"
  },
  "language_info": {
   "codemirror_mode": {
    "name": "ipython",
    "version": 3
   },
   "file_extension": ".py",
   "mimetype": "text/x-python",
   "name": "python",
   "nbconvert_exporter": "python",
   "pygments_lexer": "ipython3",
   "version": "3.8.5"
  }
 },
 "nbformat": 4,
 "nbformat_minor": 4
}
