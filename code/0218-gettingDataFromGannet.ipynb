{
 "cells": [
  {
   "cell_type": "markdown",
   "metadata": {},
   "source": [
    "# Downloading Data from Gannet to Repository"
   ]
  },
  {
   "cell_type": "markdown",
   "metadata": {},
   "source": [
    "Data located at https://gannet.fish.washington.edu/mewing0/"
   ]
  },
  {
   "cell_type": "code",
   "execution_count": 6,
   "metadata": {},
   "outputs": [
    {
     "name": "stdout",
     "output_type": "stream",
     "text": [
      "/Volumes/Samsung USB/Megan-project/code\n"
     ]
    }
   ],
   "source": [
    "! pwd"
   ]
  },
  {
   "cell_type": "code",
   "execution_count": 7,
   "metadata": {},
   "outputs": [
    {
     "name": "stdout",
     "output_type": "stream",
     "text": [
      "mkdir: ../data/raw: File exists\n"
     ]
    }
   ],
   "source": [
    "! mkdir ../data/raw"
   ]
  },
  {
   "cell_type": "code",
   "execution_count": 15,
   "metadata": {},
   "outputs": [
    {
     "name": "stdout",
     "output_type": "stream",
     "text": [
      "/Volumes/Samsung USB/Megan-project/data/raw\n"
     ]
    }
   ],
   "source": [
    "cd ../data/raw"
   ]
  },
  {
   "cell_type": "code",
   "execution_count": 19,
   "metadata": {},
   "outputs": [
    {
     "name": "stdout",
     "output_type": "stream",
     "text": [
      "--2021-02-18 16:06:53--  https://gannet.fish.washington.edu/mewing0/\n",
      "Resolving gannet.fish.washington.edu (gannet.fish.washington.edu)... 128.95.149.52\n",
      "Connecting to gannet.fish.washington.edu (gannet.fish.washington.edu)|128.95.149.52|:443... connected.\n",
      "HTTP request sent, awaiting response... 200 OK\n",
      "Length: 1179 (1.2K) [text/html]\n",
      "Saving to: ‘index.html.tmp’\n",
      "\n",
      "index.html.tmp      100%[===================>]   1.15K  --.-KB/s    in 0s      \n",
      "\n",
      "2021-02-18 16:06:53 (80.3 MB/s) - ‘index.html.tmp’ saved [1179/1179]\n",
      "\n",
      "Loading robots.txt; please ignore errors.\n",
      "--2021-02-18 16:06:53--  https://gannet.fish.washington.edu/robots.txt\n",
      "Reusing existing connection to gannet.fish.washington.edu:443.\n",
      "HTTP request sent, awaiting response... 404 Not Found\n",
      "2021-02-18 16:06:53 ERROR 404: Not Found.\n",
      "\n",
      "Removing index.html.tmp since it should be rejected.\n",
      "\n",
      "--2021-02-18 16:06:53--  https://gannet.fish.washington.edu/mewing0/?C=N;O=D\n",
      "Reusing existing connection to gannet.fish.washington.edu:443.\n",
      "HTTP request sent, awaiting response... 200 OK\n",
      "Length: 1179 (1.2K) [text/html]\n",
      "Saving to: ‘index.html?C=N;O=D.tmp’\n",
      "\n",
      "index.html?C=N;O=D. 100%[===================>]   1.15K  --.-KB/s    in 0s      \n",
      "\n",
      "2021-02-18 16:06:53 (562 MB/s) - ‘index.html?C=N;O=D.tmp’ saved [1179/1179]\n",
      "\n",
      "Removing index.html?C=N;O=D.tmp since it should be rejected.\n",
      "\n",
      "--2021-02-18 16:06:53--  https://gannet.fish.washington.edu/mewing0/?C=M;O=A\n",
      "Reusing existing connection to gannet.fish.washington.edu:443.\n",
      "HTTP request sent, awaiting response... 200 OK\n",
      "Length: 1179 (1.2K) [text/html]\n",
      "Saving to: ‘index.html?C=M;O=A.tmp’\n",
      "\n",
      "index.html?C=M;O=A. 100%[===================>]   1.15K  --.-KB/s    in 0s      \n",
      "\n",
      "2021-02-18 16:06:53 (375 MB/s) - ‘index.html?C=M;O=A.tmp’ saved [1179/1179]\n",
      "\n",
      "Removing index.html?C=M;O=A.tmp since it should be rejected.\n",
      "\n",
      "--2021-02-18 16:06:53--  https://gannet.fish.washington.edu/mewing0/?C=S;O=A\n",
      "Reusing existing connection to gannet.fish.washington.edu:443.\n",
      "HTTP request sent, awaiting response... 200 OK\n",
      "Length: 1179 (1.2K) [text/html]\n",
      "Saving to: ‘index.html?C=S;O=A.tmp’\n",
      "\n",
      "index.html?C=S;O=A. 100%[===================>]   1.15K  --.-KB/s    in 0s      \n",
      "\n",
      "2021-02-18 16:06:53 (375 MB/s) - ‘index.html?C=S;O=A.tmp’ saved [1179/1179]\n",
      "\n",
      "Removing index.html?C=S;O=A.tmp since it should be rejected.\n",
      "\n",
      "--2021-02-18 16:06:53--  https://gannet.fish.washington.edu/mewing0/?C=D;O=A\n",
      "Reusing existing connection to gannet.fish.washington.edu:443.\n",
      "HTTP request sent, awaiting response... 200 OK\n",
      "Length: 1179 (1.2K) [text/html]\n",
      "Saving to: ‘index.html?C=D;O=A.tmp’\n",
      "\n",
      "index.html?C=D;O=A. 100%[===================>]   1.15K  --.-KB/s    in 0s      \n",
      "\n",
      "2021-02-18 16:06:53 (375 MB/s) - ‘index.html?C=D;O=A.tmp’ saved [1179/1179]\n",
      "\n",
      "Removing index.html?C=D;O=A.tmp since it should be rejected.\n",
      "\n",
      "--2021-02-18 16:06:53--  https://gannet.fish.washington.edu/mewing0/17104-02RT-01-13_S21_L003_R1_001.fastq.gz\n",
      "Reusing existing connection to gannet.fish.washington.edu:443.\n",
      "HTTP request sent, awaiting response... 200 OK\n",
      "Length: 2584372008 (2.4G) [application/x-gzip]\n",
      "Saving to: ‘17104-02RT-01-13_S21_L003_R1_001.fastq.gz’\n",
      "\n",
      "17104-02RT-01-13_S2 100%[===================>]   2.41G  5.83MB/s    in 15m 38s \n",
      "\n",
      "2021-02-18 16:22:31 (2.63 MB/s) - ‘17104-02RT-01-13_S21_L003_R1_001.fastq.gz’ saved [2584372008/2584372008]\n",
      "\n",
      "--2021-02-18 16:22:31--  https://gannet.fish.washington.edu/mewing0/17104-02RT-01-13_S21_L003_R2_001.fastq.gz\n",
      "Reusing existing connection to gannet.fish.washington.edu:443.\n",
      "HTTP request sent, awaiting response... 200 OK\n",
      "Length: 2847658204 (2.7G) [application/x-gzip]\n",
      "Saving to: ‘17104-02RT-01-13_S21_L003_R2_001.fastq.gz’\n",
      "\n",
      "17104-02RT-01-13_S2 100%[===================>]   2.65G  8.06MB/s    in 12m 33s \n",
      "\n",
      "2021-02-18 16:35:05 (3.61 MB/s) - ‘17104-02RT-01-13_S21_L003_R2_001.fastq.gz’ saved [2847658204/2847658204]\n",
      "\n",
      "--2021-02-18 16:35:05--  https://gannet.fish.washington.edu/mewing0/?C=N;O=A\n",
      "Reusing existing connection to gannet.fish.washington.edu:443.\n",
      "HTTP request sent, awaiting response... 200 OK\n",
      "Length: 1179 (1.2K) [text/html]\n",
      "Saving to: ‘index.html?C=N;O=A.tmp’\n",
      "\n",
      "index.html?C=N;O=A. 100%[===================>]   1.15K  --.-KB/s    in 0s      \n",
      "\n",
      "2021-02-18 16:35:05 (281 MB/s) - ‘index.html?C=N;O=A.tmp’ saved [1179/1179]\n",
      "\n",
      "Removing index.html?C=N;O=A.tmp since it should be rejected.\n",
      "\n",
      "--2021-02-18 16:35:05--  https://gannet.fish.washington.edu/mewing0/?C=M;O=D\n",
      "Reusing existing connection to gannet.fish.washington.edu:443.\n",
      "HTTP request sent, awaiting response... 200 OK\n",
      "Length: 1179 (1.2K) [text/html]\n",
      "Saving to: ‘index.html?C=M;O=D.tmp’\n",
      "\n",
      "index.html?C=M;O=D. 100%[===================>]   1.15K  --.-KB/s    in 0s      \n",
      "\n",
      "2021-02-18 16:35:05 (225 MB/s) - ‘index.html?C=M;O=D.tmp’ saved [1179/1179]\n",
      "\n",
      "Removing index.html?C=M;O=D.tmp since it should be rejected.\n",
      "\n",
      "--2021-02-18 16:35:05--  https://gannet.fish.washington.edu/mewing0/?C=S;O=D\n",
      "Reusing existing connection to gannet.fish.washington.edu:443.\n",
      "HTTP request sent, awaiting response... 200 OK\n",
      "Length: 1179 (1.2K) [text/html]\n",
      "Saving to: ‘index.html?C=S;O=D.tmp’\n",
      "\n",
      "index.html?C=S;O=D. 100%[===================>]   1.15K  --.-KB/s    in 0s      \n",
      "\n",
      "2021-02-18 16:35:05 (1.10 GB/s) - ‘index.html?C=S;O=D.tmp’ saved [1179/1179]\n",
      "\n",
      "Removing index.html?C=S;O=D.tmp since it should be rejected.\n",
      "\n",
      "--2021-02-18 16:35:05--  https://gannet.fish.washington.edu/mewing0/?C=D;O=D\n",
      "Reusing existing connection to gannet.fish.washington.edu:443.\n",
      "HTTP request sent, awaiting response... 200 OK\n",
      "Length: 1179 (1.2K) [text/html]\n",
      "Saving to: ‘index.html?C=D;O=D.tmp’\n",
      "\n",
      "index.html?C=D;O=D. 100%[===================>]   1.15K  --.-KB/s    in 0s      \n",
      "\n",
      "2021-02-18 16:35:05 (187 MB/s) - ‘index.html?C=D;O=D.tmp’ saved [1179/1179]\n",
      "\n",
      "Removing index.html?C=D;O=D.tmp since it should be rejected.\n",
      "\n",
      "FINISHED --2021-02-18 16:35:05--\n",
      "Total wall clock time: 28m 12s\n",
      "Downloaded: 11 files, 5.1G in 28m 11s (3.06 MB/s)\n"
     ]
    }
   ],
   "source": [
    "! wget -A \"*.fastq.gz\" -r -np -nd \"https://gannet.fish.washington.edu/mewing0/\""
   ]
  },
  {
   "cell_type": "code",
   "execution_count": null,
   "metadata": {},
   "outputs": [],
   "source": [
    "! "
   ]
  }
 ],
 "metadata": {
  "kernelspec": {
   "display_name": "Python 3",
   "language": "python",
   "name": "python3"
  },
  "language_info": {
   "codemirror_mode": {
    "name": "ipython",
    "version": 3
   },
   "file_extension": ".py",
   "mimetype": "text/x-python",
   "name": "python",
   "nbconvert_exporter": "python",
   "pygments_lexer": "ipython3",
   "version": "3.8.5"
  }
 },
 "nbformat": 4,
 "nbformat_minor": 4
}
