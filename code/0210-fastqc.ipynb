{
 "cells": [
  {
   "cell_type": "markdown",
   "metadata": {},
   "source": [
    "# Running fastqc on two of my salmon data files that were unchanged during file transfer and correspond to the same sample: `17104-02RT-01-13_S21_L003_R2_001.fastq.gz` `17104-02RT-01-13_S21_L003_R1_001.fastq.gz`"
   ]
  },
  {
   "cell_type": "markdown",
   "metadata": {},
   "source": [
    "## R2"
   ]
  },
  {
   "cell_type": "code",
   "execution_count": 1,
   "metadata": {},
   "outputs": [
    {
     "name": "stdout",
     "output_type": "stream",
     "text": [
      "\u001b[34mConfiguration\u001b[m\u001b[m     LICENSE_JHDF5.txt cisd-jhdf5.jar    \u001b[34morg\u001b[m\u001b[m\n",
      "\u001b[34mHelp\u001b[m\u001b[m              README.md         fastqc            run_fastqc.bat\n",
      "INSTALL.txt       README.txt        fastqc_icon.ico   sam-1.103.jar\n",
      "LICENSE           RELEASE_NOTES.txt jbzip2-0.9.jar    \u001b[34muk\u001b[m\u001b[m\n",
      "LICENSE.txt       \u001b[34mTemplates\u001b[m\u001b[m         \u001b[34mnet\u001b[m\u001b[m\n"
     ]
    }
   ],
   "source": [
    "! ls /Applications/FastQC"
   ]
  },
  {
   "cell_type": "code",
   "execution_count": 3,
   "metadata": {},
   "outputs": [],
   "source": [
    "# make program executable from command line\n",
    "! chmod u+x /Applications/FastQC/fastQC"
   ]
  },
  {
   "cell_type": "code",
   "execution_count": 4,
   "metadata": {},
   "outputs": [],
   "source": [
    "# make directory for results to go to\n",
    "! mkdir ../analyses/0210-fastqc/"
   ]
  },
  {
   "cell_type": "code",
   "execution_count": 5,
   "metadata": {},
   "outputs": [
    {
     "name": "stdout",
     "output_type": "stream",
     "text": [
      "Started analysis of 17104-02RT-01-13_S21_L003_R2_001.fastq.gz\n",
      "Approx 5% complete for 17104-02RT-01-13_S21_L003_R2_001.fastq.gz\n",
      "Approx 10% complete for 17104-02RT-01-13_S21_L003_R2_001.fastq.gz\n",
      "Approx 15% complete for 17104-02RT-01-13_S21_L003_R2_001.fastq.gz\n",
      "Approx 20% complete for 17104-02RT-01-13_S21_L003_R2_001.fastq.gz\n",
      "Approx 25% complete for 17104-02RT-01-13_S21_L003_R2_001.fastq.gz\n",
      "Approx 30% complete for 17104-02RT-01-13_S21_L003_R2_001.fastq.gz\n",
      "Approx 35% complete for 17104-02RT-01-13_S21_L003_R2_001.fastq.gz\n",
      "Approx 40% complete for 17104-02RT-01-13_S21_L003_R2_001.fastq.gz\n",
      "Approx 45% complete for 17104-02RT-01-13_S21_L003_R2_001.fastq.gz\n",
      "Approx 50% complete for 17104-02RT-01-13_S21_L003_R2_001.fastq.gz\n",
      "Approx 55% complete for 17104-02RT-01-13_S21_L003_R2_001.fastq.gz\n",
      "Approx 60% complete for 17104-02RT-01-13_S21_L003_R2_001.fastq.gz\n",
      "Approx 65% complete for 17104-02RT-01-13_S21_L003_R2_001.fastq.gz\n",
      "Approx 70% complete for 17104-02RT-01-13_S21_L003_R2_001.fastq.gz\n",
      "Approx 75% complete for 17104-02RT-01-13_S21_L003_R2_001.fastq.gz\n",
      "Approx 80% complete for 17104-02RT-01-13_S21_L003_R2_001.fastq.gz\n",
      "Approx 85% complete for 17104-02RT-01-13_S21_L003_R2_001.fastq.gz\n",
      "Approx 90% complete for 17104-02RT-01-13_S21_L003_R2_001.fastq.gz\n",
      "Approx 95% complete for 17104-02RT-01-13_S21_L003_R2_001.fastq.gz\n",
      "Analysis complete for 17104-02RT-01-13_S21_L003_R2_001.fastq.gz\n"
     ]
    }
   ],
   "source": [
    "# Run fastqc and send output to directory just created\n",
    "!/Applications/FastQC/fastQC \\\n",
    "/Volumes/Samsung\\ USB/salmon/Files_Giles_Uploaded_For_Chris/17104-02RT-01-13_S21_L003_R2_001.fastq.gz \\\n",
    "-o ../analyses/0210-fastqc/"
   ]
  },
  {
   "cell_type": "code",
   "execution_count": 6,
   "metadata": {},
   "outputs": [
    {
     "name": "stdout",
     "output_type": "stream",
     "text": [
      "17104-02RT-01-13_S21_L003_R2_001_fastqc.html\n",
      "17104-02RT-01-13_S21_L003_R2_001_fastqc.zip\n"
     ]
    }
   ],
   "source": [
    "# look at contents of the directory post running fastqc\n",
    "!ls ../analyses/0210-fastqc/"
   ]
  },
  {
   "cell_type": "markdown",
   "metadata": {},
   "source": [
    "Link to view [html file](http://htmlpreview.github.io/?https://github.com/fish546-2021/Megan-project/blob/main/analyses/0210-fastqc/17104-02RT-01-13_S21_L003_R2_001_fastqc.html)"
   ]
  },
  {
   "cell_type": "markdown",
   "metadata": {},
   "source": [
    "### Zip File"
   ]
  },
  {
   "cell_type": "code",
   "execution_count": 10,
   "metadata": {},
   "outputs": [
    {
     "name": "stdout",
     "output_type": "stream",
     "text": [
      "\u001b[34mIcons\u001b[m\u001b[m              fastqc.fo          fastqc_report.html\n",
      "\u001b[34mImages\u001b[m\u001b[m             fastqc_data.txt    summary.txt\n"
     ]
    }
   ],
   "source": [
    "! ls ../analyses/0210-fastqc/17104-02RT-01-13_S21_L003_R2_001_fastqc"
   ]
  },
  {
   "cell_type": "code",
   "execution_count": 11,
   "metadata": {},
   "outputs": [
    {
     "data": {
      "text/plain": [
       "['##FastQC\\t0.11.9',\n",
       " '>>Basic Statistics\\tpass',\n",
       " '#Measure\\tValue',\n",
       " 'Filename\\t17104-02RT-01-13_S21_L003_R2_001.fastq.gz',\n",
       " 'File type\\tConventional base calls',\n",
       " 'Encoding\\tSanger / Illumina 1.9',\n",
       " 'Total Sequences\\t29873562',\n",
       " 'Sequences flagged as poor quality\\t0',\n",
       " 'Sequence length\\t151',\n",
       " '%GC\\t50']"
      ]
     },
     "execution_count": 11,
     "metadata": {},
     "output_type": "execute_result"
    }
   ],
   "source": [
    "! head ../analyses/0210-fastqc/17104-02RT-01-13_S21_L003_R2_001_fastqc/fastqc_data.txt"
   ]
  },
  {
   "cell_type": "code",
   "execution_count": 12,
   "metadata": {},
   "outputs": [
    {
     "name": "stdout",
     "output_type": "stream",
     "text": [
      "PASS\tBasic Statistics\t17104-02RT-01-13_S21_L003_R2_001.fastq.gz\n",
      "PASS\tPer base sequence quality\t17104-02RT-01-13_S21_L003_R2_001.fastq.gz\n",
      "WARN\tPer tile sequence quality\t17104-02RT-01-13_S21_L003_R2_001.fastq.gz\n",
      "PASS\tPer sequence quality scores\t17104-02RT-01-13_S21_L003_R2_001.fastq.gz\n",
      "WARN\tPer base sequence content\t17104-02RT-01-13_S21_L003_R2_001.fastq.gz\n",
      "PASS\tPer sequence GC content\t17104-02RT-01-13_S21_L003_R2_001.fastq.gz\n",
      "PASS\tPer base N content\t17104-02RT-01-13_S21_L003_R2_001.fastq.gz\n",
      "PASS\tSequence Length Distribution\t17104-02RT-01-13_S21_L003_R2_001.fastq.gz\n",
      "FAIL\tSequence Duplication Levels\t17104-02RT-01-13_S21_L003_R2_001.fastq.gz\n",
      "WARN\tOverrepresented sequences\t17104-02RT-01-13_S21_L003_R2_001.fastq.gz\n"
     ]
    }
   ],
   "source": [
    "! head ../analyses/0210-fastqc/17104-02RT-01-13_S21_L003_R2_001_fastqc/summary.txt"
   ]
  },
  {
   "cell_type": "markdown",
   "metadata": {},
   "source": [
    "## R1"
   ]
  },
  {
   "cell_type": "code",
   "execution_count": 4,
   "metadata": {},
   "outputs": [
    {
     "name": "stdout",
     "output_type": "stream",
     "text": [
      "Started analysis of 17104-02RT-01-13_S21_L003_R1_001.fastq.gz\n",
      "Approx 5% complete for 17104-02RT-01-13_S21_L003_R1_001.fastq.gz\n",
      "Approx 10% complete for 17104-02RT-01-13_S21_L003_R1_001.fastq.gz\n",
      "Approx 15% complete for 17104-02RT-01-13_S21_L003_R1_001.fastq.gz\n",
      "Approx 20% complete for 17104-02RT-01-13_S21_L003_R1_001.fastq.gz\n",
      "Approx 25% complete for 17104-02RT-01-13_S21_L003_R1_001.fastq.gz\n",
      "Approx 30% complete for 17104-02RT-01-13_S21_L003_R1_001.fastq.gz\n",
      "Approx 35% complete for 17104-02RT-01-13_S21_L003_R1_001.fastq.gz\n",
      "Approx 40% complete for 17104-02RT-01-13_S21_L003_R1_001.fastq.gz\n",
      "Approx 45% complete for 17104-02RT-01-13_S21_L003_R1_001.fastq.gz\n",
      "Approx 50% complete for 17104-02RT-01-13_S21_L003_R1_001.fastq.gz\n",
      "Approx 55% complete for 17104-02RT-01-13_S21_L003_R1_001.fastq.gz\n",
      "Approx 60% complete for 17104-02RT-01-13_S21_L003_R1_001.fastq.gz\n",
      "Approx 65% complete for 17104-02RT-01-13_S21_L003_R1_001.fastq.gz\n",
      "Approx 70% complete for 17104-02RT-01-13_S21_L003_R1_001.fastq.gz\n",
      "Approx 75% complete for 17104-02RT-01-13_S21_L003_R1_001.fastq.gz\n",
      "Approx 80% complete for 17104-02RT-01-13_S21_L003_R1_001.fastq.gz\n",
      "Approx 85% complete for 17104-02RT-01-13_S21_L003_R1_001.fastq.gz\n",
      "Approx 90% complete for 17104-02RT-01-13_S21_L003_R1_001.fastq.gz\n",
      "Approx 95% complete for 17104-02RT-01-13_S21_L003_R1_001.fastq.gz\n",
      "Analysis complete for 17104-02RT-01-13_S21_L003_R1_001.fastq.gz\n"
     ]
    }
   ],
   "source": [
    "# Run fastqc and send output to directory just created\n",
    "!/Applications/FastQC/fastQC \\\n",
    "/Volumes/Samsung\\ USB/salmon/Files_Giles_Uploaded_For_Chris/17104-02RT-01-13_S21_L003_R1_001.fastq.gz \\\n",
    "-o ../analyses/0210-fastqc/"
   ]
  },
  {
   "cell_type": "code",
   "execution_count": 5,
   "metadata": {},
   "outputs": [
    {
     "name": "stdout",
     "output_type": "stream",
     "text": [
      "17104-02RT-01-13_S21_L003_R1_001_fastqc.html\n",
      "17104-02RT-01-13_S21_L003_R1_001_fastqc.zip\n",
      "\u001b[34m17104-02RT-01-13_S21_L003_R2_001_fastqc\u001b[m\u001b[m\n",
      "17104-02RT-01-13_S21_L003_R2_001_fastqc.html\n",
      "17104-02RT-01-13_S21_L003_R2_001_fastqc.zip\n"
     ]
    }
   ],
   "source": [
    "!ls ../analyses/0210-fastqc/"
   ]
  },
  {
   "cell_type": "markdown",
   "metadata": {},
   "source": [
    "Link to view [html file](<insert link here>)"
   ]
  },
  {
   "cell_type": "markdown",
   "metadata": {},
   "source": [
    "### Zip File"
   ]
  },
  {
   "cell_type": "code",
   "execution_count": 7,
   "metadata": {},
   "outputs": [
    {
     "name": "stdout",
     "output_type": "stream",
     "text": [
      "##FastQC\t0.11.9\n",
      ">>Basic Statistics\tpass\n",
      "#Measure\tValue\n",
      "Filename\t17104-02RT-01-13_S21_L003_R1_001.fastq.gz\n",
      "File type\tConventional base calls\n",
      "Encoding\tSanger / Illumina 1.9\n",
      "Total Sequences\t29873562\n",
      "Sequences flagged as poor quality\t0\n",
      "Sequence length\t151\n",
      "%GC\t50\n"
     ]
    }
   ],
   "source": [
    "! head ../analyses/0210-fastqc/17104-02RT-01-13_S21_L003_R1_001_fastqc/fastqc_data.txt"
   ]
  },
  {
   "cell_type": "code",
   "execution_count": 8,
   "metadata": {},
   "outputs": [
    {
     "name": "stdout",
     "output_type": "stream",
     "text": [
      "PASS\tBasic Statistics\t17104-02RT-01-13_S21_L003_R1_001.fastq.gz\n",
      "PASS\tPer base sequence quality\t17104-02RT-01-13_S21_L003_R1_001.fastq.gz\n",
      "PASS\tPer tile sequence quality\t17104-02RT-01-13_S21_L003_R1_001.fastq.gz\n",
      "PASS\tPer sequence quality scores\t17104-02RT-01-13_S21_L003_R1_001.fastq.gz\n",
      "FAIL\tPer base sequence content\t17104-02RT-01-13_S21_L003_R1_001.fastq.gz\n",
      "PASS\tPer sequence GC content\t17104-02RT-01-13_S21_L003_R1_001.fastq.gz\n",
      "PASS\tPer base N content\t17104-02RT-01-13_S21_L003_R1_001.fastq.gz\n",
      "PASS\tSequence Length Distribution\t17104-02RT-01-13_S21_L003_R1_001.fastq.gz\n",
      "FAIL\tSequence Duplication Levels\t17104-02RT-01-13_S21_L003_R1_001.fastq.gz\n",
      "WARN\tOverrepresented sequences\t17104-02RT-01-13_S21_L003_R1_001.fastq.gz\n"
     ]
    }
   ],
   "source": [
    "! head ../analyses/0210-fastqc/17104-02RT-01-13_S21_L003_R1_001_fastqc/summary.txt"
   ]
  },
  {
   "cell_type": "code",
   "execution_count": null,
   "metadata": {},
   "outputs": [],
   "source": []
  }
 ],
 "metadata": {
  "kernelspec": {
   "display_name": "Python 3",
   "language": "python",
   "name": "python3"
  },
  "language_info": {
   "codemirror_mode": {
    "name": "ipython",
    "version": 3
   },
   "file_extension": ".py",
   "mimetype": "text/x-python",
   "name": "python",
   "nbconvert_exporter": "python",
   "pygments_lexer": "ipython3",
   "version": "3.8.5"
  }
 },
 "nbformat": 4,
 "nbformat_minor": 4
}
