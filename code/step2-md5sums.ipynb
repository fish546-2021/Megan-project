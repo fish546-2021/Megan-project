{
 "cells": [
  {
   "cell_type": "markdown",
   "metadata": {},
   "source": [
    "# check md5sums for a subset of salmon data provided by Chris Monson (UW) and Giles Goetz (NOAA)"
   ]
  },
  {
   "cell_type": "markdown",
   "metadata": {},
   "source": [
    "### Salmon data was moved from a NOAA server to ssh ostrich.washington.fish.edu . md5 sums for that trasfer are in this directory in `../data/raw/0128-Giles-md5sums.txt` -- this is where the raw data files that we will be checking are as well"
   ]
  },
  {
   "cell_type": "code",
   "execution_count": 1,
   "metadata": {},
   "outputs": [
    {
     "name": "stdout",
     "output_type": "stream",
     "text": [
      "/Volumes/Samsung USB/Megan-project/code\n"
     ]
    }
   ],
   "source": [
    "!pwd"
   ]
  },
  {
   "cell_type": "code",
   "execution_count": 2,
   "metadata": {},
   "outputs": [
    {
     "name": "stdout",
     "output_type": "stream",
     "text": [
      "/Volumes/Samsung USB/Megan-project/data/raw\n"
     ]
    }
   ],
   "source": [
    "cd ../data/raw"
   ]
  },
  {
   "cell_type": "code",
   "execution_count": 3,
   "metadata": {},
   "outputs": [
    {
     "name": "stdout",
     "output_type": "stream",
     "text": [
      "/Volumes/Samsung USB/Megan-project/data/raw\n",
      "\u001b[31m0128-Giles-md5sums.txt\u001b[m\u001b[m\n",
      "\u001b[31m17104-02RT-01-10_S18_L002_R1_001.fastq.gz\u001b[m\u001b[m\n",
      "\u001b[31m17104-02RT-01-10_S18_L002_R2_001.fastq.gz\u001b[m\u001b[m\n",
      "\u001b[31m17104-02RT-01-11_S19_L002_R1_001.fastq.gz\u001b[m\u001b[m\n",
      "\u001b[31m17104-02RT-01-11_S19_L002_R2_001.fastq.gz\u001b[m\u001b[m\n",
      "\u001b[31m17104-02RT-01-13_S21_L003_R1_001.fastq.gz\u001b[m\u001b[m\n",
      "\u001b[31m17104-02RT-01-13_S21_L003_R2_001.fastq.gz\u001b[m\u001b[m\n",
      "\u001b[31m17104-02RT-01-7_S15_L003_R1_001.fastq.gz\u001b[m\u001b[m\n",
      "\u001b[31m17104-02RT-01-7_S15_L003_R2_001.fastq.gz\u001b[m\u001b[m\n",
      "\u001b[31m17104-02RT-01-8_S16_L002_R1_001.fastq.gz\u001b[m\u001b[m\n",
      "\u001b[31m17104-02RT-01-8_S16_L002_R2_001.fastq.gz\u001b[m\u001b[m\n",
      "\u001b[31m17104-02RT-01-8_S16_L003_R1_001.fastq.gz\u001b[m\u001b[m\n",
      "\u001b[31m17104-02RT-01-8_S16_L003_R2_001.fastq.gz\u001b[m\u001b[m\n"
     ]
    }
   ],
   "source": [
    "# confirm we are in the right directory and see its contents. Note that this does not contain all the files there are in this dataset\n",
    "! pwd\n",
    "! ls"
   ]
  },
  {
   "cell_type": "markdown",
   "metadata": {},
   "source": [
    "### Note that this is only a subset of files from Gannet, so your contents may look different if you're working through the code steps on your own computer :)"
   ]
  },
  {
   "cell_type": "code",
   "execution_count": 4,
   "metadata": {},
   "outputs": [
    {
     "name": "stdout",
     "output_type": "stream",
     "text": [
      "md5sum: stat '17104-02RT-01-13_S21_L002_R2_001.fastq.gz': No such file or directory\n",
      "17104-02RT-01-13_S21_L003_R1_001.fastq.gz: OK\n",
      "17104-02RT-01-13_S21_L003_R2_001.fastq.gz: OK\n",
      "md5sum: stat '17104-02RT-01-14_S22_L002_R1_001.fastq.gz': No such file or directory\n",
      "md5sum: stat '17104-02RT-01-14_S22_L002_R2_001.fastq.gz': No such file or directory\n",
      "md5sum: stat '17104-02RT-01-14_S22_L003_R1_001.fastq.gz': No such file or directory\n",
      "md5sum: stat '17104-02RT-01-14_S22_L003_R2_001.fastq.gz': No such file or directory\n",
      "md5sum: stat '17104-02RT-01-15_S23_L002_R1_001.fastq.gz': No such file or directory\n",
      "md5sum: stat '17104-02RT-01-15_S23_L002_R2_001.fastq.gz': No such file or directory\n",
      "md5sum: stat '17104-02RT-01-15_S23_L003_R1_001.fastq.gz': No such file or directory\n",
      "md5sum: stat '17104-02RT-01-15_S23_L003_R2_001.fastq.gz': No such file or directory\n",
      "md5sum: stat '17104-02RT-01-7_S15_L002_R1_001.fastq.gz': No such file or directory\n",
      "md5sum: stat '17104-02RT-01-7_S15_L002_R2_001.fastq.gz': No such file or directory\n",
      "17104-02RT-01-7_S15_L003_R1_001.fastq.gz: OK\n",
      "17104-02RT-01-7_S15_L003_R2_001.fastq.gz: OK\n",
      "17104-02RT-01-8_S16_L002_R1_001.fastq.gz: OK\n",
      "17104-02RT-01-8_S16_L002_R2_001.fastq.gz: OK\n",
      "17104-02RT-01-8_S16_L003_R1_001.fastq.gz: OK\n",
      "17104-02RT-01-8_S16_L003_R2_001.fastq.gz: OK\n",
      "md5sum: stat '17104-02RT-01-9_S17_L002_R1_001.fastq.gz': No such file or directory\n",
      "md5sum: stat '17104-02RT-01-9_S17_L002_R2_001.fastq.gz': No such file or directory\n",
      "md5sum: stat '17104-02RT-01-9_S17_L003_R1_001.fastq.gz': No such file or directory\n",
      "md5sum: stat '17104-02RT-01-9_S17_L003_R2_001.fastq.gz': No such file or directory\n"
     ]
    }
   ],
   "source": [
    "# Check to make sure files match original version\n",
    "! md5sum -c 0128-Giles-md5sums.txt"
   ]
  },
  {
   "cell_type": "markdown",
   "metadata": {},
   "source": [
    "### the files that say \"no such file or directory\" is because I'm only using a subset of the data"
   ]
  },
  {
   "cell_type": "code",
   "execution_count": null,
   "metadata": {},
   "outputs": [],
   "source": []
  }
 ],
 "metadata": {
  "kernelspec": {
   "display_name": "Python 3",
   "language": "python",
   "name": "python3"
  },
  "language_info": {
   "codemirror_mode": {
    "name": "ipython",
    "version": 3
   },
   "file_extension": ".py",
   "mimetype": "text/x-python",
   "name": "python",
   "nbconvert_exporter": "python",
   "pygments_lexer": "ipython3",
   "version": "3.8.5"
  }
 },
 "nbformat": 4,
 "nbformat_minor": 4
}
