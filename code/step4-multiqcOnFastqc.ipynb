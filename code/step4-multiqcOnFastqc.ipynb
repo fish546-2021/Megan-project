{
 "cells": [
  {
   "cell_type": "markdown",
   "metadata": {},
   "source": [
    "# Mutli QC on FastQC files"
   ]
  },
  {
   "cell_type": "code",
   "execution_count": 1,
   "metadata": {},
   "outputs": [
    {
     "name": "stdout",
     "output_type": "stream",
     "text": [
      "/Volumes/Samsung USB/Megan-project/code\n"
     ]
    }
   ],
   "source": [
    "# where are we\n",
    "! pwd"
   ]
  },
  {
   "cell_type": "code",
   "execution_count": 2,
   "metadata": {},
   "outputs": [
    {
     "name": "stdout",
     "output_type": "stream",
     "text": [
      "\u001b[31m17104-02RT-01-10_S18_L002_R1_001_fastqc.html\u001b[m\u001b[m\n",
      "\u001b[31m17104-02RT-01-10_S18_L002_R1_001_fastqc.zip\u001b[m\u001b[m\n",
      "\u001b[31m17104-02RT-01-10_S18_L002_R2_001_fastqc.html\u001b[m\u001b[m\n",
      "\u001b[31m17104-02RT-01-10_S18_L002_R2_001_fastqc.zip\u001b[m\u001b[m\n",
      "\u001b[31m17104-02RT-01-11_S19_L002_R1_001_fastqc.html\u001b[m\u001b[m\n",
      "\u001b[31m17104-02RT-01-11_S19_L002_R1_001_fastqc.zip\u001b[m\u001b[m\n",
      "\u001b[31m17104-02RT-01-11_S19_L002_R2_001_fastqc.html\u001b[m\u001b[m\n",
      "\u001b[31m17104-02RT-01-11_S19_L002_R2_001_fastqc.zip\u001b[m\u001b[m\n",
      "\u001b[31m17104-02RT-01-13_S21_L002_R2_001_fastqc.html\u001b[m\u001b[m\n",
      "\u001b[31m17104-02RT-01-13_S21_L002_R2_001_fastqc.zip\u001b[m\u001b[m\n",
      "\u001b[31m17104-02RT-01-13_S21_L003_R1_001_fastqc.html\u001b[m\u001b[m\n",
      "\u001b[31m17104-02RT-01-13_S21_L003_R1_001_fastqc.zip\u001b[m\u001b[m\n",
      "\u001b[31m17104-02RT-01-13_S21_L003_R2_001_fastqc.html\u001b[m\u001b[m\n",
      "\u001b[31m17104-02RT-01-13_S21_L003_R2_001_fastqc.zip\u001b[m\u001b[m\n",
      "\u001b[31m17104-02RT-01-14_S22_L002_R1_001_fastqc.html\u001b[m\u001b[m\n",
      "\u001b[31m17104-02RT-01-14_S22_L002_R1_001_fastqc.zip\u001b[m\u001b[m\n",
      "\u001b[31m17104-02RT-01-7_S15_L002_R2_001_fastqc.html\u001b[m\u001b[m\n",
      "\u001b[31m17104-02RT-01-7_S15_L002_R2_001_fastqc.zip\u001b[m\u001b[m\n",
      "\u001b[31m17104-02RT-01-7_S15_L003_R1_001_fastqc.html\u001b[m\u001b[m\n",
      "\u001b[31m17104-02RT-01-7_S15_L003_R1_001_fastqc.zip\u001b[m\u001b[m\n",
      "\u001b[31m17104-02RT-01-7_S15_L003_R2_001_fastqc.html\u001b[m\u001b[m\n",
      "\u001b[31m17104-02RT-01-7_S15_L003_R2_001_fastqc.zip\u001b[m\u001b[m\n",
      "\u001b[31m17104-02RT-01-8_S16_L002_R1_001_fastqc.html\u001b[m\u001b[m\n",
      "\u001b[31m17104-02RT-01-8_S16_L002_R1_001_fastqc.zip\u001b[m\u001b[m\n",
      "\u001b[31m17104-02RT-01-8_S16_L002_R2_001_fastqc.html\u001b[m\u001b[m\n",
      "\u001b[31m17104-02RT-01-8_S16_L002_R2_001_fastqc.zip\u001b[m\u001b[m\n",
      "\u001b[31m17104-02RT-01-8_S16_L003_R1_001_fastqc.html\u001b[m\u001b[m\n",
      "\u001b[31m17104-02RT-01-8_S16_L003_R1_001_fastqc.zip\u001b[m\u001b[m\n",
      "\u001b[31m17104-02RT-01-8_S16_L003_R2_001_fastqc.html\u001b[m\u001b[m\n",
      "\u001b[31m17104-02RT-01-8_S16_L003_R2_001_fastqc.zip\u001b[m\u001b[m\n"
     ]
    }
   ],
   "source": [
    "# look back at the fastqc reports we want to use\n",
    "! ls ../analyses/step3-fastqc/"
   ]
  },
  {
   "cell_type": "code",
   "execution_count": 3,
   "metadata": {},
   "outputs": [],
   "source": [
    "# make new directory for the multiqc\n",
    "! mkdir ../analyses/step4-multiqc/"
   ]
  },
  {
   "cell_type": "code",
   "execution_count": 7,
   "metadata": {},
   "outputs": [],
   "source": [
    "# copy the fastqc reports to this multiqc directory we've made\n",
    "! cp ../analyses/step3-fastqc/*fastqc* ../analyses/step4-multiqc/"
   ]
  },
  {
   "cell_type": "code",
   "execution_count": 8,
   "metadata": {},
   "outputs": [
    {
     "name": "stdout",
     "output_type": "stream",
     "text": [
      "\u001b[31m17104-02RT-01-10_S18_L002_R1_001_fastqc.html\u001b[m\u001b[m\n",
      "\u001b[31m17104-02RT-01-10_S18_L002_R1_001_fastqc.zip\u001b[m\u001b[m\n",
      "\u001b[31m17104-02RT-01-10_S18_L002_R2_001_fastqc.html\u001b[m\u001b[m\n",
      "\u001b[31m17104-02RT-01-10_S18_L002_R2_001_fastqc.zip\u001b[m\u001b[m\n",
      "\u001b[31m17104-02RT-01-11_S19_L002_R1_001_fastqc.html\u001b[m\u001b[m\n",
      "\u001b[31m17104-02RT-01-11_S19_L002_R1_001_fastqc.zip\u001b[m\u001b[m\n",
      "\u001b[31m17104-02RT-01-11_S19_L002_R2_001_fastqc.html\u001b[m\u001b[m\n",
      "\u001b[31m17104-02RT-01-11_S19_L002_R2_001_fastqc.zip\u001b[m\u001b[m\n",
      "\u001b[31m17104-02RT-01-13_S21_L002_R2_001_fastqc.html\u001b[m\u001b[m\n",
      "\u001b[31m17104-02RT-01-13_S21_L002_R2_001_fastqc.zip\u001b[m\u001b[m\n",
      "\u001b[31m17104-02RT-01-13_S21_L003_R1_001_fastqc.html\u001b[m\u001b[m\n",
      "\u001b[31m17104-02RT-01-13_S21_L003_R1_001_fastqc.zip\u001b[m\u001b[m\n",
      "\u001b[31m17104-02RT-01-13_S21_L003_R2_001_fastqc.html\u001b[m\u001b[m\n",
      "\u001b[31m17104-02RT-01-13_S21_L003_R2_001_fastqc.zip\u001b[m\u001b[m\n",
      "\u001b[31m17104-02RT-01-14_S22_L002_R1_001_fastqc.html\u001b[m\u001b[m\n",
      "\u001b[31m17104-02RT-01-14_S22_L002_R1_001_fastqc.zip\u001b[m\u001b[m\n",
      "\u001b[31m17104-02RT-01-7_S15_L002_R2_001_fastqc.html\u001b[m\u001b[m\n",
      "\u001b[31m17104-02RT-01-7_S15_L002_R2_001_fastqc.zip\u001b[m\u001b[m\n",
      "\u001b[31m17104-02RT-01-7_S15_L003_R1_001_fastqc.html\u001b[m\u001b[m\n",
      "\u001b[31m17104-02RT-01-7_S15_L003_R1_001_fastqc.zip\u001b[m\u001b[m\n",
      "\u001b[31m17104-02RT-01-7_S15_L003_R2_001_fastqc.html\u001b[m\u001b[m\n",
      "\u001b[31m17104-02RT-01-7_S15_L003_R2_001_fastqc.zip\u001b[m\u001b[m\n",
      "\u001b[31m17104-02RT-01-8_S16_L002_R1_001_fastqc.html\u001b[m\u001b[m\n",
      "\u001b[31m17104-02RT-01-8_S16_L002_R1_001_fastqc.zip\u001b[m\u001b[m\n",
      "\u001b[31m17104-02RT-01-8_S16_L002_R2_001_fastqc.html\u001b[m\u001b[m\n",
      "\u001b[31m17104-02RT-01-8_S16_L002_R2_001_fastqc.zip\u001b[m\u001b[m\n",
      "\u001b[31m17104-02RT-01-8_S16_L003_R1_001_fastqc.html\u001b[m\u001b[m\n",
      "\u001b[31m17104-02RT-01-8_S16_L003_R1_001_fastqc.zip\u001b[m\u001b[m\n",
      "\u001b[31m17104-02RT-01-8_S16_L003_R2_001_fastqc.html\u001b[m\u001b[m\n",
      "\u001b[31m17104-02RT-01-8_S16_L003_R2_001_fastqc.zip\u001b[m\u001b[m\n"
     ]
    }
   ],
   "source": [
    "# confirm they've copied\n",
    "! ls ../analyses/step4-multiqc/"
   ]
  },
  {
   "cell_type": "code",
   "execution_count": 10,
   "metadata": {},
   "outputs": [
    {
     "name": "stdout",
     "output_type": "stream",
     "text": [
      "/Volumes/Samsung USB/Megan-project/analyses/step4-multiqc\n"
     ]
    }
   ],
   "source": [
    "cd ../analyses/step4-multiqc/"
   ]
  },
  {
   "cell_type": "code",
   "execution_count": 11,
   "metadata": {},
   "outputs": [
    {
     "name": "stdout",
     "output_type": "stream",
     "text": [
      "\u001b[31m17104-02RT-01-10_S18_L002_R1_001_fastqc.html\u001b[m\u001b[m\n",
      "\u001b[31m17104-02RT-01-10_S18_L002_R1_001_fastqc.zip\u001b[m\u001b[m\n",
      "\u001b[31m17104-02RT-01-10_S18_L002_R2_001_fastqc.html\u001b[m\u001b[m\n",
      "\u001b[31m17104-02RT-01-10_S18_L002_R2_001_fastqc.zip\u001b[m\u001b[m\n",
      "\u001b[31m17104-02RT-01-11_S19_L002_R1_001_fastqc.html\u001b[m\u001b[m\n",
      "\u001b[31m17104-02RT-01-11_S19_L002_R1_001_fastqc.zip\u001b[m\u001b[m\n",
      "\u001b[31m17104-02RT-01-11_S19_L002_R2_001_fastqc.html\u001b[m\u001b[m\n",
      "\u001b[31m17104-02RT-01-11_S19_L002_R2_001_fastqc.zip\u001b[m\u001b[m\n",
      "\u001b[31m17104-02RT-01-13_S21_L002_R2_001_fastqc.html\u001b[m\u001b[m\n",
      "\u001b[31m17104-02RT-01-13_S21_L002_R2_001_fastqc.zip\u001b[m\u001b[m\n",
      "\u001b[31m17104-02RT-01-13_S21_L003_R1_001_fastqc.html\u001b[m\u001b[m\n",
      "\u001b[31m17104-02RT-01-13_S21_L003_R1_001_fastqc.zip\u001b[m\u001b[m\n",
      "\u001b[31m17104-02RT-01-13_S21_L003_R2_001_fastqc.html\u001b[m\u001b[m\n",
      "\u001b[31m17104-02RT-01-13_S21_L003_R2_001_fastqc.zip\u001b[m\u001b[m\n",
      "\u001b[31m17104-02RT-01-14_S22_L002_R1_001_fastqc.html\u001b[m\u001b[m\n",
      "\u001b[31m17104-02RT-01-14_S22_L002_R1_001_fastqc.zip\u001b[m\u001b[m\n",
      "\u001b[31m17104-02RT-01-7_S15_L002_R2_001_fastqc.html\u001b[m\u001b[m\n",
      "\u001b[31m17104-02RT-01-7_S15_L002_R2_001_fastqc.zip\u001b[m\u001b[m\n",
      "\u001b[31m17104-02RT-01-7_S15_L003_R1_001_fastqc.html\u001b[m\u001b[m\n",
      "\u001b[31m17104-02RT-01-7_S15_L003_R1_001_fastqc.zip\u001b[m\u001b[m\n",
      "\u001b[31m17104-02RT-01-7_S15_L003_R2_001_fastqc.html\u001b[m\u001b[m\n",
      "\u001b[31m17104-02RT-01-7_S15_L003_R2_001_fastqc.zip\u001b[m\u001b[m\n",
      "\u001b[31m17104-02RT-01-8_S16_L002_R1_001_fastqc.html\u001b[m\u001b[m\n",
      "\u001b[31m17104-02RT-01-8_S16_L002_R1_001_fastqc.zip\u001b[m\u001b[m\n",
      "\u001b[31m17104-02RT-01-8_S16_L002_R2_001_fastqc.html\u001b[m\u001b[m\n",
      "\u001b[31m17104-02RT-01-8_S16_L002_R2_001_fastqc.zip\u001b[m\u001b[m\n",
      "\u001b[31m17104-02RT-01-8_S16_L003_R1_001_fastqc.html\u001b[m\u001b[m\n",
      "\u001b[31m17104-02RT-01-8_S16_L003_R1_001_fastqc.zip\u001b[m\u001b[m\n",
      "\u001b[31m17104-02RT-01-8_S16_L003_R2_001_fastqc.html\u001b[m\u001b[m\n",
      "\u001b[31m17104-02RT-01-8_S16_L003_R2_001_fastqc.zip\u001b[m\u001b[m\n"
     ]
    }
   ],
   "source": [
    "# confirm contents...again\n",
    "! ls"
   ]
  },
  {
   "cell_type": "code",
   "execution_count": 12,
   "metadata": {},
   "outputs": [
    {
     "name": "stdout",
     "output_type": "stream",
     "text": [
      "\u001b[1;30m[INFO   ]\u001b[0m         multiqc : This is MultiQC v1.9\n",
      "\u001b[1;30m[INFO   ]\u001b[0m         multiqc : Template    : default\n",
      "\u001b[1;30m[INFO   ]\u001b[0m         multiqc : Searching   : /Volumes/Samsung USB/Megan-project/analyses/step4-multiqc\n",
      "\u001b[?25lSearching 30 files..  [####################################]  100%\u001b[?25h\n",
      "\u001b[1;30m[INFO   ]\u001b[0m          fastqc : Found 15 reports\n",
      "\u001b[1;30m[INFO   ]\u001b[0m         multiqc : Compressing plot data\n",
      "\u001b[1;30m[INFO   ]\u001b[0m         multiqc : Report      : multiqc_report.html\n",
      "\u001b[1;30m[INFO   ]\u001b[0m         multiqc : Data        : multiqc_data\n",
      "\u001b[1;30m[INFO   ]\u001b[0m         multiqc : MultiQC complete\n"
     ]
    }
   ],
   "source": [
    "# run multiqc in this directory (indicated by the .)\n",
    "! multiqc ."
   ]
  },
  {
   "cell_type": "code",
   "execution_count": 13,
   "metadata": {},
   "outputs": [
    {
     "name": "stdout",
     "output_type": "stream",
     "text": [
      "\u001b[31m17104-02RT-01-10_S18_L002_R1_001_fastqc.html\u001b[m\u001b[m\n",
      "\u001b[31m17104-02RT-01-10_S18_L002_R1_001_fastqc.zip\u001b[m\u001b[m\n",
      "\u001b[31m17104-02RT-01-10_S18_L002_R2_001_fastqc.html\u001b[m\u001b[m\n",
      "\u001b[31m17104-02RT-01-10_S18_L002_R2_001_fastqc.zip\u001b[m\u001b[m\n",
      "\u001b[31m17104-02RT-01-11_S19_L002_R1_001_fastqc.html\u001b[m\u001b[m\n",
      "\u001b[31m17104-02RT-01-11_S19_L002_R1_001_fastqc.zip\u001b[m\u001b[m\n",
      "\u001b[31m17104-02RT-01-11_S19_L002_R2_001_fastqc.html\u001b[m\u001b[m\n",
      "\u001b[31m17104-02RT-01-11_S19_L002_R2_001_fastqc.zip\u001b[m\u001b[m\n",
      "\u001b[31m17104-02RT-01-13_S21_L002_R2_001_fastqc.html\u001b[m\u001b[m\n",
      "\u001b[31m17104-02RT-01-13_S21_L002_R2_001_fastqc.zip\u001b[m\u001b[m\n",
      "\u001b[31m17104-02RT-01-13_S21_L003_R1_001_fastqc.html\u001b[m\u001b[m\n",
      "\u001b[31m17104-02RT-01-13_S21_L003_R1_001_fastqc.zip\u001b[m\u001b[m\n",
      "\u001b[31m17104-02RT-01-13_S21_L003_R2_001_fastqc.html\u001b[m\u001b[m\n",
      "\u001b[31m17104-02RT-01-13_S21_L003_R2_001_fastqc.zip\u001b[m\u001b[m\n",
      "\u001b[31m17104-02RT-01-14_S22_L002_R1_001_fastqc.html\u001b[m\u001b[m\n",
      "\u001b[31m17104-02RT-01-14_S22_L002_R1_001_fastqc.zip\u001b[m\u001b[m\n",
      "\u001b[31m17104-02RT-01-7_S15_L002_R2_001_fastqc.html\u001b[m\u001b[m\n",
      "\u001b[31m17104-02RT-01-7_S15_L002_R2_001_fastqc.zip\u001b[m\u001b[m\n",
      "\u001b[31m17104-02RT-01-7_S15_L003_R1_001_fastqc.html\u001b[m\u001b[m\n",
      "\u001b[31m17104-02RT-01-7_S15_L003_R1_001_fastqc.zip\u001b[m\u001b[m\n",
      "\u001b[31m17104-02RT-01-7_S15_L003_R2_001_fastqc.html\u001b[m\u001b[m\n",
      "\u001b[31m17104-02RT-01-7_S15_L003_R2_001_fastqc.zip\u001b[m\u001b[m\n",
      "\u001b[31m17104-02RT-01-8_S16_L002_R1_001_fastqc.html\u001b[m\u001b[m\n",
      "\u001b[31m17104-02RT-01-8_S16_L002_R1_001_fastqc.zip\u001b[m\u001b[m\n",
      "\u001b[31m17104-02RT-01-8_S16_L002_R2_001_fastqc.html\u001b[m\u001b[m\n",
      "\u001b[31m17104-02RT-01-8_S16_L002_R2_001_fastqc.zip\u001b[m\u001b[m\n",
      "\u001b[31m17104-02RT-01-8_S16_L003_R1_001_fastqc.html\u001b[m\u001b[m\n",
      "\u001b[31m17104-02RT-01-8_S16_L003_R1_001_fastqc.zip\u001b[m\u001b[m\n",
      "\u001b[31m17104-02RT-01-8_S16_L003_R2_001_fastqc.html\u001b[m\u001b[m\n",
      "\u001b[31m17104-02RT-01-8_S16_L003_R2_001_fastqc.zip\u001b[m\u001b[m\n",
      "\u001b[30m\u001b[43mmultiqc_data\u001b[m\u001b[m\n",
      "\u001b[31mmultiqc_report.html\u001b[m\u001b[m\n"
     ]
    }
   ],
   "source": [
    "# look at directory contents and you'll see we have two new files that are the result of the mutliqc\n",
    "! ls"
   ]
  },
  {
   "cell_type": "markdown",
   "metadata": {},
   "source": [
    "### link to view [html file]()"
   ]
  },
  {
   "cell_type": "code",
   "execution_count": null,
   "metadata": {},
   "outputs": [],
   "source": []
  }
 ],
 "metadata": {
  "kernelspec": {
   "display_name": "Python 3",
   "language": "python",
   "name": "python3"
  },
  "language_info": {
   "codemirror_mode": {
    "name": "ipython",
    "version": 3
   },
   "file_extension": ".py",
   "mimetype": "text/x-python",
   "name": "python",
   "nbconvert_exporter": "python",
   "pygments_lexer": "ipython3",
   "version": "3.8.5"
  }
 },
 "nbformat": 4,
 "nbformat_minor": 4
}
