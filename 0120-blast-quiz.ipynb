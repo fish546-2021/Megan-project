{
 "cells": [
  {
   "cell_type": "markdown",
   "metadata": {},
   "source": [
    "## Running Blast in Jupyter"
   ]
  },
  {
   "cell_type": "markdown",
   "metadata": {},
   "source": [
    "Megan Ewing, Fish546 Week 3\n",
    "based on this issue https://github.com/sr320/course-fish546-2021/issues/10"
   ]
  },
  {
   "cell_type": "markdown",
   "metadata": {},
   "source": [
    "## Get the Query file (unkowns)"
   ]
  },
  {
   "cell_type": "code",
   "execution_count": 13,
   "metadata": {},
   "outputs": [
    {
     "name": "stdout",
     "output_type": "stream",
     "text": [
      "  % Total    % Received % Xferd  Average Speed   Time    Time     Time  Current\n",
      "                                 Dload  Upload   Total   Spent    Left  Speed\n",
      "100 1982k  100 1982k    0     0   957k      0  0:00:02  0:00:02 --:--:--  957k 0:00:01  0:00:01  843k\n"
     ]
    }
   ],
   "source": [
    "#get fasta file and save to folder\n",
    "!curl https://eagle.fish.washington.edu/cnidarian/Ab_4denovo_CLC6_a.fa \\\n",
    "> ../data/Ab_4denovo_CLC6_a.fa"
   ]
  },
  {
   "cell_type": "code",
   "execution_count": 14,
   "metadata": {},
   "outputs": [
    {
     "name": "stdout",
     "output_type": "stream",
     "text": [
      "Ab_4denovo_CLC6_a.fa\n"
     ]
    }
   ],
   "source": [
    "#list contents of blastdb to confirm file was was saved there\n",
    "!ls ../data/"
   ]
  },
  {
   "cell_type": "code",
   "execution_count": 15,
   "metadata": {},
   "outputs": [
    {
     "name": "stdout",
     "output_type": "stream",
     "text": [
      ">solid0078_20110412_FRAG_BC_WHITE_WHITE_F3_QV_SE_trimmed_contig_1\n",
      "ACACCCCACCCCAACGCACCCTCACCCCCACCCCAACAATCCATGATTGAATACTTCATC\n",
      "TATCCAAGACAAACTCCTCCTACAATCCATGATAGAATTCCTCCAAAAATAATTTCACAC\n",
      "TGAAACTCCGGTATCCGAGTTATTTTGTTCCCAGTAAAATGGCATCAACAAAAGTAGGTC\n",
      "TGGATTAACGAACCAATGTTGCTGCGTAATATCCCATTGACATATCTTGTCGATTCCTAC\n",
      "CAGGATCCGGACTGACGAGATTTCACTGTACGTTTATGCAAGTCATTTCCATATATAAAA\n",
      "TTGGATCTTATTTGCACAGTTAAATGTCTCTATGCTTATTTATAAATCAATGCCCGTAAG\n",
      "CTCCTAATATTTCTCTTTTCGTCCGACGAGCAAACAGTGAGTTTACTGTGGCCTTCAGCA\n",
      "AAAGTATTGATGTTGTAAATCTCAGTTGTGATTGAACAATTTGCCTCACTAGAAGTAGCC\n",
      "TTC\n"
     ]
    }
   ],
   "source": [
    "#show \"head\", or top, of file \n",
    "!head ../data/Ab_4denovo_CLC6_a.fa"
   ]
  },
  {
   "cell_type": "code",
   "execution_count": 16,
   "metadata": {},
   "outputs": [],
   "source": [
    "!rm ../blastdb/Ab_4denovo_CLC6_a.fa"
   ]
  },
  {
   "cell_type": "markdown",
   "metadata": {},
   "source": [
    "## Get Protein fasta to create database"
   ]
  },
  {
   "cell_type": "code",
   "execution_count": 22,
   "metadata": {},
   "outputs": [
    {
     "name": "stdout",
     "output_type": "stream",
     "text": [
      "  % Total    % Received % Xferd  Average Speed   Time    Time     Time  Current\n",
      "                                 Dload  Upload   Total   Spent    Left  Speed\n",
      "100 85.6M  100 85.6M    0     0   114k      0  0:12:42  0:12:42 --:--:--  556k   0  279k    0     0   9005      0  2:46:09  0:00:31  2:45:38  3754 2:22:48  0:00:48  2:22:00  9314  2:05:16  0:01:01  2:04:15 18639 0  15417      0  1:37:02  0:03:01  1:34:01 19707 14617      0  1:42:21  0:03:21  1:39:00  3201   0     0  13453      0  1:51:13  0:03:58  1:47:15  8877  1:52:17  0:04:03  1:48:14  64870:04:15  1:46:49 184220  1:49:30  0:05:10  1:44:20 13241 0     0  13688      0  1:49:18  0:06:15  1:43:03 15102k    0     0  13687      0  1:49:18  0:06:18  1:43:00 12495768      0  1:48:40  0:06:49  1:41:51 171970:07:05  1:43:13 10293    0     0  21372      0  1:10:00  0:08:22  1:01:38 67983 0     0  23643      0  1:03:17  0:08:36  0:54:41  106k:53  0:09:37  0:29:16  496k  0  51717      0  0:28:55  0:10:03  0:18:52  180kM    0     0  56291      0  0:26:34  0:10:09  0:16:25  495kk:02  0:11:52  0:06:10  326k33      0  0:17:52  0:11:54  0:05:58  344k\n"
     ]
    }
   ],
   "source": [
    "#get database and save to blastdb\n",
    "!curl \\\n",
    "ftp://ftp.uniprot.org/pub/databases/uniprot/current_release/knowledgebase/complete/uniprot_sprot.fasta.gz \\\n",
    "> ../blastdb/uniprot_sprot.fasta.gz"
   ]
  },
  {
   "cell_type": "code",
   "execution_count": 23,
   "metadata": {},
   "outputs": [],
   "source": [
    "#unzip unirot fasta file\n",
    "!gunzip -k ../blastdb/uniprot_sprot.fasta.gz"
   ]
  },
  {
   "cell_type": "code",
   "execution_count": 26,
   "metadata": {},
   "outputs": [
    {
     "name": "stdout",
     "output_type": "stream",
     "text": [
      "uniprot_sprot.fasta    uniprot_sprot.fasta.gz\n"
     ]
    }
   ],
   "source": [
    "#list blastdb contents to confirm file got placed there\n",
    "!ls ../blastdb/"
   ]
  },
  {
   "cell_type": "markdown",
   "metadata": {},
   "source": [
    "## Make BlastDB (need to install Software first)"
   ]
  },
  {
   "cell_type": "code",
   "execution_count": 31,
   "metadata": {},
   "outputs": [
    {
     "name": "stdout",
     "output_type": "stream",
     "text": [
      "  % Total    % Received % Xferd  Average Speed   Time    Time     Time  Current\n",
      "                                 Dload  Upload   Total   Spent    Left  Speed\n",
      "100  139M  100  139M    0     0  2067k      0  0:01:08  0:01:08 --:--:-- 4362k:01:33  0:00:37  0:00:56  860k70.2M    0     0  1521k      0  0:01:33  0:00:47  0:00:46 1419k\n"
     ]
    }
   ],
   "source": [
    "#install blast database software and save to BLAST applications folder\n",
    "!curl https://ftp.ncbi.nlm.nih.gov/blast/executables/blast+/LATEST/ncbi-blast-2.11.0+-x64-macosx.tar.gz \\\n",
    "> /Applications/bioinfo/ncbi-blast-2.11.0+-x64-macosx.tar.gz"
   ]
  },
  {
   "cell_type": "code",
   "execution_count": 49,
   "metadata": {},
   "outputs": [],
   "source": [
    "#extract contents (would need to unzip if it wasn't already unzipped in folder)\n",
    "!tar -xf /Applications/bioinfo/ncbi-blast-2.11.0+-x64-macosx.tar.gz"
   ]
  },
  {
   "cell_type": "code",
   "execution_count": 54,
   "metadata": {},
   "outputs": [
    {
     "name": "stdout",
     "output_type": "stream",
     "text": [
      "\u001b[31mblast_formatter\u001b[m\u001b[m            \u001b[31mlegacy_blast.pl\u001b[m\u001b[m\n",
      "\u001b[31mblastdb_aliastool\u001b[m\u001b[m          \u001b[31mmakeblastdb\u001b[m\u001b[m\n",
      "\u001b[31mblastdbcheck\u001b[m\u001b[m               \u001b[31mmakembindex\u001b[m\u001b[m\n",
      "\u001b[31mblastdbcmd\u001b[m\u001b[m                 \u001b[31mmakeprofiledb\u001b[m\u001b[m\n",
      "\u001b[31mblastn\u001b[m\u001b[m                     \u001b[31mpsiblast\u001b[m\u001b[m\n",
      "\u001b[31mblastp\u001b[m\u001b[m                     \u001b[31mrpsblast\u001b[m\u001b[m\n",
      "\u001b[31mblastx\u001b[m\u001b[m                     \u001b[31mrpstblastn\u001b[m\u001b[m\n",
      "\u001b[31mcleanup-blastdb-volumes.py\u001b[m\u001b[m \u001b[31msegmasker\u001b[m\u001b[m\n",
      "\u001b[31mconvert2blastmask\u001b[m\u001b[m          \u001b[31mtblastn\u001b[m\u001b[m\n",
      "\u001b[31mdeltablast\u001b[m\u001b[m                 \u001b[31mtblastx\u001b[m\u001b[m\n",
      "\u001b[31mdustmasker\u001b[m\u001b[m                 \u001b[31mupdate_blastdb.pl\u001b[m\u001b[m\n",
      "\u001b[31mget_species_taxids.sh\u001b[m\u001b[m      \u001b[31mwindowmasker\u001b[m\u001b[m\n"
     ]
    }
   ],
   "source": [
    "#list contents\n",
    "!ls /Applications/bioinfo/ncbi-blast-2.11.0+/bin"
   ]
  },
  {
   "cell_type": "code",
   "execution_count": 61,
   "metadata": {},
   "outputs": [],
   "source": [
    "#setting blast program directory \n",
    "bldir = \"/Applications/bioinfo/ncbi-blast-2.11.0+/bin/\""
   ]
  },
  {
   "cell_type": "code",
   "execution_count": 64,
   "metadata": {},
   "outputs": [
    {
     "name": "stdout",
     "output_type": "stream",
     "text": [
      "\n",
      "\n",
      "Building a new DB, current time: 01/20/2021 20:15:59\n",
      "New DB name:   /Users/meganewing/Desktop/fish546/week3/blastdb/uniprot_sprot_r2021\n",
      "New DB title:  ../blastdb/uniprot_sprot.fasta\n",
      "Sequence type: Protein\n",
      "Keep MBits: T\n",
      "Maximum file size: 1000000000B\n",
      "Adding sequences from FASTA; added 563972 sequences in 19.5684 seconds.\n",
      "\n",
      "\n"
     ]
    }
   ],
   "source": [
    "!{bldir}makeblastdb \\\n",
    "-in ../blastdb/uniprot_sprot.fasta \\\n",
    "-dbtype prot \\\n",
    "-out ../blastdb/uniprot_sprot_r2021"
   ]
  },
  {
   "cell_type": "markdown",
   "metadata": {},
   "source": [
    "## Run Blastx"
   ]
  },
  {
   "cell_type": "code",
   "execution_count": 94,
   "metadata": {},
   "outputs": [
    {
     "name": "stdout",
     "output_type": "stream",
     "text": [
      "/Users/meganewing/Desktop/fish546/week3/data\n"
     ]
    }
   ],
   "source": [
    "cd /Users/meganewing/Desktop/fish546/week3/data"
   ]
  },
  {
   "cell_type": "code",
   "execution_count": null,
   "metadata": {},
   "outputs": [],
   "source": [
    "#build directory\n",
    "!{bldir}blastx \\\n",
    "-query ../data/Ab_4denovo_CLC6_a.fa \\\n",
    "-db ../blastdb/uniprot_sprot_r2021 \\\n",
    "-out ../analyses/Ab_4-uniprot_blastx.tab \\\n",
    "-evalue 1E-20 \\\n",
    "-num_threads 4 \\\n",
    "-max_target_seqs 5 \\\n",
    "-outfmt 6"
   ]
  },
  {
   "cell_type": "code",
   "execution_count": null,
   "metadata": {},
   "outputs": [
    {
     "name": "stdout",
     "output_type": "stream",
     "text": [
      "solid0078_20110412_FRAG_BC_WHITE_WHITE_F3_QV_SE_trimmed_contig_3\tsp|O42248|GBLP_DANRE\t82.456\t171\t30\t0\t1\t513\t35\t205\t2.77e-103\t301\n",
      "solid0078_20110412_FRAG_BC_WHITE_WHITE_F3_QV_SE_trimmed_contig_3\tsp|P63245|RACK1_RAT\t80.702\t171\t33\t0\t1\t513\t35\t205\t7.69e-102\t298\n",
      "solid0078_20110412_FRAG_BC_WHITE_WHITE_F3_QV_SE_trimmed_contig_3\tsp|P63246|RACK1_PIG\t80.702\t171\t33\t0\t1\t513\t35\t205\t7.69e-102\t298\n",
      "solid0078_20110412_FRAG_BC_WHITE_WHITE_F3_QV_SE_trimmed_contig_3\tsp|P68040|RACK1_MOUSE\t80.702\t171\t33\t0\t1\t513\t35\t205\t7.69e-102\t298\n",
      "solid0078_20110412_FRAG_BC_WHITE_WHITE_F3_QV_SE_trimmed_contig_3\tsp|P63244|RACK1_HUMAN\t80.702\t171\t33\t0\t1\t513\t35\t205\t7.69e-102\t298\n",
      "solid0078_20110412_FRAG_BC_WHITE_WHITE_F3_QV_SE_trimmed_contig_5\tsp|Q08013|SSRG_RAT\t75.385\t65\t16\t0\t3\t197\t121\t185\t1.38e-28\t104\n",
      "solid0078_20110412_FRAG_BC_WHITE_WHITE_F3_QV_SE_trimmed_contig_5\tsp|Q9DCF9|SSRG_MOUSE\t75.385\t65\t16\t0\t3\t197\t121\t185\t1.38e-28\t104\n",
      "solid0078_20110412_FRAG_BC_WHITE_WHITE_F3_QV_SE_trimmed_contig_5\tsp|Q3SZ87|SSRG_BOVIN\t75.385\t65\t16\t0\t3\t197\t121\t185\t1.54e-28\t104\n",
      "solid0078_20110412_FRAG_BC_WHITE_WHITE_F3_QV_SE_trimmed_contig_5\tsp|Q9UNL2|SSRG_HUMAN\t73.846\t65\t17\t0\t3\t197\t121\t185\t4.09e-28\t103\n",
      "solid0078_20110412_FRAG_BC_WHITE_WHITE_F3_QV_SE_trimmed_contig_5\tsp|Q5RCD7|SSRG_PONAB\t73.846\t65\t17\t0\t3\t197\t121\t185\t4.22e-28\t103\n"
     ]
    }
   ],
   "source": [
    "!head ../analyses/Ab_4-uniprot_blastx.tab"
   ]
  },
  {
   "cell_type": "code",
   "execution_count": null,
   "metadata": {},
   "outputs": [
    {
     "name": "stdout",
     "output_type": "stream",
     "text": [
      "    3271 ../analyses/Ab_4-uniprot_blastx.tab\n"
     ]
    }
   ],
   "source": [
    "!wc -l ../analyses/Ab_4-uniprot_blastx.tab"
   ]
  },
  {
   "cell_type": "code",
   "execution_count": null,
   "metadata": {},
   "outputs": [],
   "source": []
  }
 ],
 "metadata": {
  "kernelspec": {
   "display_name": "Python 3",
   "language": "python",
   "name": "python3"
  },
  "language_info": {
   "codemirror_mode": {
    "name": "ipython",
    "version": 3
   },
   "file_extension": ".py",
   "mimetype": "text/x-python",
   "name": "python",
   "nbconvert_exporter": "python",
   "pygments_lexer": "ipython3",
   "version": "3.8.5"
  }
 },
 "nbformat": 4,
 "nbformat_minor": 4
}
